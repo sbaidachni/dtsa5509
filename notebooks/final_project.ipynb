{
 "cells": [
  {
   "cell_type": "markdown",
   "id": "8c8bfb67",
   "metadata": {},
   "source": [
    "# DTSA 5509 Final Project\n",
    "\n",
    "## Introduction\n",
    "\n",
    "In this notebook you can find an example of a regression problem and its solution using sklearn library.\n",
    "\n",
    "As a datasource we are using [Azure Open Datasets](https://learn.microsoft.com/en-us/azure/open-datasets/dataset-catalog) that are provided by Microsoft alongside with Python API to donwload needed data slices. In order to use the datasets no registration is required. Thanks to that we should not host data in the repository. The notebook is using slices from two datasets: [NYC Yellow Taxi trip records](https://learn.microsoft.com/en-us/azure/open-datasets/dataset-taxi-yellow?tabs=azureml-opendatasets) and [NYC Green Taxi trip records](https://learn.microsoft.com/en-us/azure/open-datasets/dataset-taxi-green?tabs=azureml-opendatasets). Both datasets are very similar and can be merged after some data preprocessing steps.\n",
    "\n",
    "Our problem, that we are solving in this notebook, is to estimate a trip fare. If we get a very accurate model, it will be possible to use it in any mobile application that help people to find the most optimal/cheap transportation route. It's exactly the reason why we are using both yellow and green taxi providers to estimate the fare."
   ]
  },
  {
   "cell_type": "markdown",
   "id": "1d2e11dc",
   "metadata": {},
   "source": [
    "The following cell contains all the modules that we are using in this notebook. In fact, just 4 packages should be installed to make all modules available:\n",
    "\n",
    "```\n",
    "azureml-opendatasets\n",
    "matplotlib\n",
    "seaborn\n",
    "scikit-learn\n",
    "```"
   ]
  },
  {
   "cell_type": "code",
   "execution_count": 1,
   "id": "c941d4a3",
   "metadata": {},
   "outputs": [],
   "source": [
    "from azureml.opendatasets import NycTlcGreen, NycTlcYellow\n",
    "import pandas as pd\n",
    "from datetime import datetime\n",
    "import matplotlib.pyplot as plt\n",
    "import numpy as np\n",
    "import seaborn as sns\n",
    "from sklearn.linear_model import LinearRegression, Ridge\n",
    "from sklearn.model_selection import train_test_split\n",
    "from sklearn.metrics import mean_squared_error, r2_score\n",
    "from sklearn.feature_selection import SelectKBest, f_regression, mutual_info_regression\n",
    "from sklearn.neural_network import MLPRegressor\n",
    "from sklearn import tree, svm\n",
    "from sklearn.ensemble import GradientBoostingRegressor"
   ]
  },
  {
   "cell_type": "markdown",
   "id": "291b64b4",
   "metadata": {},
   "source": [
    "## Step 1. Download data"
   ]
  },
  {
   "cell_type": "markdown",
   "id": "842ba255",
   "metadata": {},
   "source": [
    "The datasets are very big, and a Spark engine may be required to do all needed calculations. That's why, we are building a model for a single month only (January), downloading this slice only and limit the number of records to 10 thousands from each dataset."
   ]
  },
  {
   "cell_type": "code",
   "execution_count": 2,
   "id": "e5b0d5fe",
   "metadata": {},
   "outputs": [
    {
     "name": "stdout",
     "output_type": "stream",
     "text": [
      "[Info] read from /var/folders/23/9mlldg893ms3d5sk6kqm5z_40000gn/T/tmp4wqhyf3l/https%3A/%2Fazureopendatastorage.azurefd.net/nyctlc/green/puYear=2016/puMonth=1/part-00119-tid-4753095944193949832-fee7e113-666d-4114-9fcb-bcd3046479f3-2689-1.c000.snappy.parquet\n"
     ]
    }
   ],
   "source": [
    "green_taxi_df = pd.DataFrame([])\n",
    "\n",
    "# timeframe that we are picing as an example\n",
    "start = datetime.strptime(\"1/1/2016\",\"%m/%d/%Y\")\n",
    "end = datetime.strptime(\"1/31/2016\",\"%m/%d/%Y\")\n",
    "\n",
    "green_taxi_df = NycTlcGreen(start, end).to_pandas_dataframe()\n",
    "\n",
    "# number of samples to take\n",
    "green_taxi_df = green_taxi_df.sample(10000)"
   ]
  },
  {
   "cell_type": "code",
   "execution_count": 3,
   "id": "3629e1ff",
   "metadata": {},
   "outputs": [
    {
     "name": "stdout",
     "output_type": "stream",
     "text": [
      "[Info] read from /var/folders/23/9mlldg893ms3d5sk6kqm5z_40000gn/T/tmpu8kzfhw6/https%3A/%2Fazureopendatastorage.azurefd.net/nyctlc/yellow/puYear=2016/puMonth=1/part-00000-tid-8898858832658823408-a1de80bd-eed3-4d11-b9d4-fa74bfbd47bc-426339-90.c000.snappy.parquet\n",
      "[Info] read from /var/folders/23/9mlldg893ms3d5sk6kqm5z_40000gn/T/tmpu8kzfhw6/https%3A/%2Fazureopendatastorage.azurefd.net/nyctlc/yellow/puYear=2016/puMonth=1/part-00016-tid-8898858832658823408-a1de80bd-eed3-4d11-b9d4-fa74bfbd47bc-426328-88.c000.snappy.parquet\n",
      "[Info] read from /var/folders/23/9mlldg893ms3d5sk6kqm5z_40000gn/T/tmpu8kzfhw6/https%3A/%2Fazureopendatastorage.azurefd.net/nyctlc/yellow/puYear=2016/puMonth=1/part-00001-tid-8898858832658823408-a1de80bd-eed3-4d11-b9d4-fa74bfbd47bc-426336-89.c000.snappy.parquet\n",
      "[Info] read from /var/folders/23/9mlldg893ms3d5sk6kqm5z_40000gn/T/tmpu8kzfhw6/https%3A/%2Fazureopendatastorage.azurefd.net/nyctlc/yellow/puYear=2016/puMonth=1/part-00017-tid-8898858832658823408-a1de80bd-eed3-4d11-b9d4-fa74bfbd47bc-426323-90.c000.snappy.parquet\n",
      "[Info] read from /var/folders/23/9mlldg893ms3d5sk6kqm5z_40000gn/T/tmpu8kzfhw6/https%3A/%2Fazureopendatastorage.azurefd.net/nyctlc/yellow/puYear=2016/puMonth=1/part-00002-tid-8898858832658823408-a1de80bd-eed3-4d11-b9d4-fa74bfbd47bc-426334-91.c000.snappy.parquet\n",
      "[Info] read from /var/folders/23/9mlldg893ms3d5sk6kqm5z_40000gn/T/tmpu8kzfhw6/https%3A/%2Fazureopendatastorage.azurefd.net/nyctlc/yellow/puYear=2016/puMonth=1/part-00018-tid-8898858832658823408-a1de80bd-eed3-4d11-b9d4-fa74bfbd47bc-426329-90.c000.snappy.parquet\n",
      "[Info] read from /var/folders/23/9mlldg893ms3d5sk6kqm5z_40000gn/T/tmpu8kzfhw6/https%3A/%2Fazureopendatastorage.azurefd.net/nyctlc/yellow/puYear=2016/puMonth=1/part-00003-tid-8898858832658823408-a1de80bd-eed3-4d11-b9d4-fa74bfbd47bc-426340-87.c000.snappy.parquet\n",
      "[Info] read from /var/folders/23/9mlldg893ms3d5sk6kqm5z_40000gn/T/tmpu8kzfhw6/https%3A/%2Fazureopendatastorage.azurefd.net/nyctlc/yellow/puYear=2016/puMonth=1/part-00019-tid-8898858832658823408-a1de80bd-eed3-4d11-b9d4-fa74bfbd47bc-426333-88.c000.snappy.parquet\n",
      "[Info] read from /var/folders/23/9mlldg893ms3d5sk6kqm5z_40000gn/T/tmpu8kzfhw6/https%3A/%2Fazureopendatastorage.azurefd.net/nyctlc/yellow/puYear=2016/puMonth=1/part-00004-tid-8898858832658823408-a1de80bd-eed3-4d11-b9d4-fa74bfbd47bc-426331-88.c000.snappy.parquet\n",
      "[Info] read from /var/folders/23/9mlldg893ms3d5sk6kqm5z_40000gn/T/tmpu8kzfhw6/https%3A/%2Fazureopendatastorage.azurefd.net/nyctlc/yellow/puYear=2016/puMonth=1/part-00005-tid-8898858832658823408-a1de80bd-eed3-4d11-b9d4-fa74bfbd47bc-426324-89.c000.snappy.parquet\n",
      "[Info] read from /var/folders/23/9mlldg893ms3d5sk6kqm5z_40000gn/T/tmpu8kzfhw6/https%3A/%2Fazureopendatastorage.azurefd.net/nyctlc/yellow/puYear=2016/puMonth=1/part-00006-tid-8898858832658823408-a1de80bd-eed3-4d11-b9d4-fa74bfbd47bc-426326-88.c000.snappy.parquet\n",
      "[Info] read from /var/folders/23/9mlldg893ms3d5sk6kqm5z_40000gn/T/tmpu8kzfhw6/https%3A/%2Fazureopendatastorage.azurefd.net/nyctlc/yellow/puYear=2016/puMonth=1/part-00007-tid-8898858832658823408-a1de80bd-eed3-4d11-b9d4-fa74bfbd47bc-426332-90.c000.snappy.parquet\n",
      "[Info] read from /var/folders/23/9mlldg893ms3d5sk6kqm5z_40000gn/T/tmpu8kzfhw6/https%3A/%2Fazureopendatastorage.azurefd.net/nyctlc/yellow/puYear=2016/puMonth=1/part-00008-tid-8898858832658823408-a1de80bd-eed3-4d11-b9d4-fa74bfbd47bc-426341-90.c000.snappy.parquet\n",
      "[Info] read from /var/folders/23/9mlldg893ms3d5sk6kqm5z_40000gn/T/tmpu8kzfhw6/https%3A/%2Fazureopendatastorage.azurefd.net/nyctlc/yellow/puYear=2016/puMonth=1/part-00009-tid-8898858832658823408-a1de80bd-eed3-4d11-b9d4-fa74bfbd47bc-426325-88.c000.snappy.parquet\n",
      "[Info] read from /var/folders/23/9mlldg893ms3d5sk6kqm5z_40000gn/T/tmpu8kzfhw6/https%3A/%2Fazureopendatastorage.azurefd.net/nyctlc/yellow/puYear=2016/puMonth=1/part-00010-tid-8898858832658823408-a1de80bd-eed3-4d11-b9d4-fa74bfbd47bc-426335-89.c000.snappy.parquet\n",
      "[Info] read from /var/folders/23/9mlldg893ms3d5sk6kqm5z_40000gn/T/tmpu8kzfhw6/https%3A/%2Fazureopendatastorage.azurefd.net/nyctlc/yellow/puYear=2016/puMonth=1/part-00011-tid-8898858832658823408-a1de80bd-eed3-4d11-b9d4-fa74bfbd47bc-426338-89.c000.snappy.parquet\n",
      "[Info] read from /var/folders/23/9mlldg893ms3d5sk6kqm5z_40000gn/T/tmpu8kzfhw6/https%3A/%2Fazureopendatastorage.azurefd.net/nyctlc/yellow/puYear=2016/puMonth=1/part-00012-tid-8898858832658823408-a1de80bd-eed3-4d11-b9d4-fa74bfbd47bc-426337-89.c000.snappy.parquet\n",
      "[Info] read from /var/folders/23/9mlldg893ms3d5sk6kqm5z_40000gn/T/tmpu8kzfhw6/https%3A/%2Fazureopendatastorage.azurefd.net/nyctlc/yellow/puYear=2016/puMonth=1/part-00013-tid-8898858832658823408-a1de80bd-eed3-4d11-b9d4-fa74bfbd47bc-426327-89.c000.snappy.parquet\n",
      "[Info] read from /var/folders/23/9mlldg893ms3d5sk6kqm5z_40000gn/T/tmpu8kzfhw6/https%3A/%2Fazureopendatastorage.azurefd.net/nyctlc/yellow/puYear=2016/puMonth=1/part-00014-tid-8898858832658823408-a1de80bd-eed3-4d11-b9d4-fa74bfbd47bc-426330-90.c000.snappy.parquet\n",
      "[Info] read from /var/folders/23/9mlldg893ms3d5sk6kqm5z_40000gn/T/tmpu8kzfhw6/https%3A/%2Fazureopendatastorage.azurefd.net/nyctlc/yellow/puYear=2016/puMonth=1/part-00015-tid-8898858832658823408-a1de80bd-eed3-4d11-b9d4-fa74bfbd47bc-426342-89.c000.snappy.parquet\n"
     ]
    }
   ],
   "source": [
    "yellow_taxi_df = pd.DataFrame([])\n",
    "\n",
    "# timeframe that we are picing as an example\n",
    "start = datetime.strptime(\"1/1/2016\",\"%m/%d/%Y\")\n",
    "end = datetime.strptime(\"1/31/2016\",\"%m/%d/%Y\")\n",
    "\n",
    "yellow_taxi_df = NycTlcYellow(start, end).to_pandas_dataframe()\n",
    "\n",
    "# number of samples to take\n",
    "yellow_taxi_df = yellow_taxi_df.sample(10000)"
   ]
  },
  {
   "cell_type": "markdown",
   "id": "33ebefce",
   "metadata": {},
   "source": [
    "Print basic statistic about numeric columns. It should help us to locate columns with the highest deviation that can be a good first step to locate anomalies. For example, from the table below we can see that longtitude for pick up and drop off locations are taking 0 for some examples that is not possible to reach for a NYC taxi:) Additionally, some fares are negative - it's hard to see a situation when a taxi driver pays you for a trip."
   ]
  },
  {
   "cell_type": "code",
   "execution_count": 4,
   "id": "043ac1dc",
   "metadata": {},
   "outputs": [
    {
     "data": {
      "text/html": [
       "<div>\n",
       "<style scoped>\n",
       "    .dataframe tbody tr th:only-of-type {\n",
       "        vertical-align: middle;\n",
       "    }\n",
       "\n",
       "    .dataframe tbody tr th {\n",
       "        vertical-align: top;\n",
       "    }\n",
       "\n",
       "    .dataframe thead th {\n",
       "        text-align: right;\n",
       "    }\n",
       "</style>\n",
       "<table border=\"1\" class=\"dataframe\">\n",
       "  <thead>\n",
       "    <tr style=\"text-align: right;\">\n",
       "      <th></th>\n",
       "      <th>vendorID</th>\n",
       "      <th>passengerCount</th>\n",
       "      <th>tripDistance</th>\n",
       "      <th>pickupLongitude</th>\n",
       "      <th>pickupLatitude</th>\n",
       "      <th>dropoffLongitude</th>\n",
       "      <th>dropoffLatitude</th>\n",
       "      <th>rateCodeID</th>\n",
       "      <th>paymentType</th>\n",
       "      <th>fareAmount</th>\n",
       "      <th>extra</th>\n",
       "      <th>mtaTax</th>\n",
       "      <th>tipAmount</th>\n",
       "      <th>tollsAmount</th>\n",
       "      <th>ehailFee</th>\n",
       "      <th>totalAmount</th>\n",
       "      <th>tripType</th>\n",
       "    </tr>\n",
       "  </thead>\n",
       "  <tbody>\n",
       "    <tr>\n",
       "      <th>count</th>\n",
       "      <td>10000.000000</td>\n",
       "      <td>10000.000000</td>\n",
       "      <td>10000.000000</td>\n",
       "      <td>10000.000000</td>\n",
       "      <td>10000.000000</td>\n",
       "      <td>10000.000000</td>\n",
       "      <td>10000.000000</td>\n",
       "      <td>10000.000000</td>\n",
       "      <td>10000.000000</td>\n",
       "      <td>10000.00000</td>\n",
       "      <td>10000.000000</td>\n",
       "      <td>10000.000000</td>\n",
       "      <td>10000.000000</td>\n",
       "      <td>10000.000000</td>\n",
       "      <td>0.0</td>\n",
       "      <td>10000.000000</td>\n",
       "      <td>10000.000000</td>\n",
       "    </tr>\n",
       "    <tr>\n",
       "      <th>mean</th>\n",
       "      <td>1.783900</td>\n",
       "      <td>1.360500</td>\n",
       "      <td>2.770590</td>\n",
       "      <td>-73.733464</td>\n",
       "      <td>40.631788</td>\n",
       "      <td>-73.798465</td>\n",
       "      <td>40.666627</td>\n",
       "      <td>1.098500</td>\n",
       "      <td>1.513500</td>\n",
       "      <td>12.05135</td>\n",
       "      <td>0.351100</td>\n",
       "      <td>0.486400</td>\n",
       "      <td>1.269567</td>\n",
       "      <td>0.097187</td>\n",
       "      <td>NaN</td>\n",
       "      <td>14.547135</td>\n",
       "      <td>1.023000</td>\n",
       "    </tr>\n",
       "    <tr>\n",
       "      <th>std</th>\n",
       "      <td>0.411604</td>\n",
       "      <td>1.023936</td>\n",
       "      <td>2.888061</td>\n",
       "      <td>3.929209</td>\n",
       "      <td>2.154424</td>\n",
       "      <td>3.246668</td>\n",
       "      <td>1.775941</td>\n",
       "      <td>0.607647</td>\n",
       "      <td>0.523493</td>\n",
       "      <td>11.81415</td>\n",
       "      <td>0.372347</td>\n",
       "      <td>0.090088</td>\n",
       "      <td>3.451067</td>\n",
       "      <td>0.769471</td>\n",
       "      <td>NaN</td>\n",
       "      <td>13.631516</td>\n",
       "      <td>0.149911</td>\n",
       "    </tr>\n",
       "    <tr>\n",
       "      <th>min</th>\n",
       "      <td>1.000000</td>\n",
       "      <td>0.000000</td>\n",
       "      <td>0.000000</td>\n",
       "      <td>-115.173744</td>\n",
       "      <td>0.000000</td>\n",
       "      <td>-115.143494</td>\n",
       "      <td>0.000000</td>\n",
       "      <td>1.000000</td>\n",
       "      <td>1.000000</td>\n",
       "      <td>-60.00000</td>\n",
       "      <td>-1.000000</td>\n",
       "      <td>-0.500000</td>\n",
       "      <td>-5.000000</td>\n",
       "      <td>0.000000</td>\n",
       "      <td>NaN</td>\n",
       "      <td>-65.000000</td>\n",
       "      <td>1.000000</td>\n",
       "    </tr>\n",
       "    <tr>\n",
       "      <th>25%</th>\n",
       "      <td>2.000000</td>\n",
       "      <td>1.000000</td>\n",
       "      <td>1.010000</td>\n",
       "      <td>-73.960365</td>\n",
       "      <td>40.693426</td>\n",
       "      <td>-73.967602</td>\n",
       "      <td>40.694237</td>\n",
       "      <td>1.000000</td>\n",
       "      <td>1.000000</td>\n",
       "      <td>6.00000</td>\n",
       "      <td>0.000000</td>\n",
       "      <td>0.500000</td>\n",
       "      <td>0.000000</td>\n",
       "      <td>0.000000</td>\n",
       "      <td>NaN</td>\n",
       "      <td>7.800000</td>\n",
       "      <td>1.000000</td>\n",
       "    </tr>\n",
       "    <tr>\n",
       "      <th>50%</th>\n",
       "      <td>2.000000</td>\n",
       "      <td>1.000000</td>\n",
       "      <td>1.800000</td>\n",
       "      <td>-73.946529</td>\n",
       "      <td>40.745821</td>\n",
       "      <td>-73.945152</td>\n",
       "      <td>40.745787</td>\n",
       "      <td>1.000000</td>\n",
       "      <td>2.000000</td>\n",
       "      <td>9.00000</td>\n",
       "      <td>0.500000</td>\n",
       "      <td>0.500000</td>\n",
       "      <td>0.000000</td>\n",
       "      <td>0.000000</td>\n",
       "      <td>NaN</td>\n",
       "      <td>11.160000</td>\n",
       "      <td>1.000000</td>\n",
       "    </tr>\n",
       "    <tr>\n",
       "      <th>75%</th>\n",
       "      <td>2.000000</td>\n",
       "      <td>1.000000</td>\n",
       "      <td>3.440000</td>\n",
       "      <td>-73.917755</td>\n",
       "      <td>40.800550</td>\n",
       "      <td>-73.910530</td>\n",
       "      <td>40.788481</td>\n",
       "      <td>1.000000</td>\n",
       "      <td>2.000000</td>\n",
       "      <td>14.50000</td>\n",
       "      <td>0.500000</td>\n",
       "      <td>0.500000</td>\n",
       "      <td>2.000000</td>\n",
       "      <td>0.000000</td>\n",
       "      <td>NaN</td>\n",
       "      <td>17.300000</td>\n",
       "      <td>1.000000</td>\n",
       "    </tr>\n",
       "    <tr>\n",
       "      <th>max</th>\n",
       "      <td>2.000000</td>\n",
       "      <td>6.000000</td>\n",
       "      <td>41.100000</td>\n",
       "      <td>0.000000</td>\n",
       "      <td>40.903889</td>\n",
       "      <td>0.000000</td>\n",
       "      <td>41.012783</td>\n",
       "      <td>5.000000</td>\n",
       "      <td>5.000000</td>\n",
       "      <td>499.00000</td>\n",
       "      <td>1.000000</td>\n",
       "      <td>3.000000</td>\n",
       "      <td>250.000000</td>\n",
       "      <td>12.500000</td>\n",
       "      <td>NaN</td>\n",
       "      <td>499.000000</td>\n",
       "      <td>2.000000</td>\n",
       "    </tr>\n",
       "  </tbody>\n",
       "</table>\n",
       "</div>"
      ],
      "text/plain": [
       "           vendorID  passengerCount  tripDistance  pickupLongitude  \\\n",
       "count  10000.000000    10000.000000  10000.000000     10000.000000   \n",
       "mean       1.783900        1.360500      2.770590       -73.733464   \n",
       "std        0.411604        1.023936      2.888061         3.929209   \n",
       "min        1.000000        0.000000      0.000000      -115.173744   \n",
       "25%        2.000000        1.000000      1.010000       -73.960365   \n",
       "50%        2.000000        1.000000      1.800000       -73.946529   \n",
       "75%        2.000000        1.000000      3.440000       -73.917755   \n",
       "max        2.000000        6.000000     41.100000         0.000000   \n",
       "\n",
       "       pickupLatitude  dropoffLongitude  dropoffLatitude    rateCodeID  \\\n",
       "count    10000.000000      10000.000000     10000.000000  10000.000000   \n",
       "mean        40.631788        -73.798465        40.666627      1.098500   \n",
       "std          2.154424          3.246668         1.775941      0.607647   \n",
       "min          0.000000       -115.143494         0.000000      1.000000   \n",
       "25%         40.693426        -73.967602        40.694237      1.000000   \n",
       "50%         40.745821        -73.945152        40.745787      1.000000   \n",
       "75%         40.800550        -73.910530        40.788481      1.000000   \n",
       "max         40.903889          0.000000        41.012783      5.000000   \n",
       "\n",
       "        paymentType   fareAmount         extra        mtaTax     tipAmount  \\\n",
       "count  10000.000000  10000.00000  10000.000000  10000.000000  10000.000000   \n",
       "mean       1.513500     12.05135      0.351100      0.486400      1.269567   \n",
       "std        0.523493     11.81415      0.372347      0.090088      3.451067   \n",
       "min        1.000000    -60.00000     -1.000000     -0.500000     -5.000000   \n",
       "25%        1.000000      6.00000      0.000000      0.500000      0.000000   \n",
       "50%        2.000000      9.00000      0.500000      0.500000      0.000000   \n",
       "75%        2.000000     14.50000      0.500000      0.500000      2.000000   \n",
       "max        5.000000    499.00000      1.000000      3.000000    250.000000   \n",
       "\n",
       "        tollsAmount  ehailFee   totalAmount      tripType  \n",
       "count  10000.000000       0.0  10000.000000  10000.000000  \n",
       "mean       0.097187       NaN     14.547135      1.023000  \n",
       "std        0.769471       NaN     13.631516      0.149911  \n",
       "min        0.000000       NaN    -65.000000      1.000000  \n",
       "25%        0.000000       NaN      7.800000      1.000000  \n",
       "50%        0.000000       NaN     11.160000      1.000000  \n",
       "75%        0.000000       NaN     17.300000      1.000000  \n",
       "max       12.500000       NaN    499.000000      2.000000  "
      ]
     },
     "execution_count": 4,
     "metadata": {},
     "output_type": "execute_result"
    }
   ],
   "source": [
    "green_taxi_df.describe()"
   ]
  },
  {
   "cell_type": "markdown",
   "id": "e027b12f",
   "metadata": {},
   "source": [
    "Print few rows from each set to see the nature of data."
   ]
  },
  {
   "cell_type": "code",
   "execution_count": 5,
   "id": "6b113f9e",
   "metadata": {},
   "outputs": [
    {
     "data": {
      "text/html": [
       "<div>\n",
       "<style scoped>\n",
       "    .dataframe tbody tr th:only-of-type {\n",
       "        vertical-align: middle;\n",
       "    }\n",
       "\n",
       "    .dataframe tbody tr th {\n",
       "        vertical-align: top;\n",
       "    }\n",
       "\n",
       "    .dataframe thead th {\n",
       "        text-align: right;\n",
       "    }\n",
       "</style>\n",
       "<table border=\"1\" class=\"dataframe\">\n",
       "  <thead>\n",
       "    <tr style=\"text-align: right;\">\n",
       "      <th></th>\n",
       "      <th>vendorID</th>\n",
       "      <th>lpepPickupDatetime</th>\n",
       "      <th>lpepDropoffDatetime</th>\n",
       "      <th>passengerCount</th>\n",
       "      <th>tripDistance</th>\n",
       "      <th>puLocationId</th>\n",
       "      <th>doLocationId</th>\n",
       "      <th>pickupLongitude</th>\n",
       "      <th>pickupLatitude</th>\n",
       "      <th>dropoffLongitude</th>\n",
       "      <th>...</th>\n",
       "      <th>paymentType</th>\n",
       "      <th>fareAmount</th>\n",
       "      <th>extra</th>\n",
       "      <th>mtaTax</th>\n",
       "      <th>improvementSurcharge</th>\n",
       "      <th>tipAmount</th>\n",
       "      <th>tollsAmount</th>\n",
       "      <th>ehailFee</th>\n",
       "      <th>totalAmount</th>\n",
       "      <th>tripType</th>\n",
       "    </tr>\n",
       "  </thead>\n",
       "  <tbody>\n",
       "    <tr>\n",
       "      <th>742341</th>\n",
       "      <td>2</td>\n",
       "      <td>2016-01-09 21:17:14</td>\n",
       "      <td>2016-01-09 21:31:18</td>\n",
       "      <td>1</td>\n",
       "      <td>7.74</td>\n",
       "      <td>None</td>\n",
       "      <td>None</td>\n",
       "      <td>-73.962029</td>\n",
       "      <td>40.715984</td>\n",
       "      <td>-73.976669</td>\n",
       "      <td>...</td>\n",
       "      <td>2</td>\n",
       "      <td>22.5</td>\n",
       "      <td>0.5</td>\n",
       "      <td>0.5</td>\n",
       "      <td>0.3</td>\n",
       "      <td>0.00</td>\n",
       "      <td>0.0</td>\n",
       "      <td>NaN</td>\n",
       "      <td>23.80</td>\n",
       "      <td>1.0</td>\n",
       "    </tr>\n",
       "    <tr>\n",
       "      <th>6046</th>\n",
       "      <td>2</td>\n",
       "      <td>2016-01-01 21:24:19</td>\n",
       "      <td>2016-01-01 21:40:52</td>\n",
       "      <td>1</td>\n",
       "      <td>3.84</td>\n",
       "      <td>None</td>\n",
       "      <td>None</td>\n",
       "      <td>-73.946091</td>\n",
       "      <td>40.807102</td>\n",
       "      <td>-73.963226</td>\n",
       "      <td>...</td>\n",
       "      <td>1</td>\n",
       "      <td>15.0</td>\n",
       "      <td>0.5</td>\n",
       "      <td>0.5</td>\n",
       "      <td>0.3</td>\n",
       "      <td>3.26</td>\n",
       "      <td>0.0</td>\n",
       "      <td>NaN</td>\n",
       "      <td>19.56</td>\n",
       "      <td>1.0</td>\n",
       "    </tr>\n",
       "    <tr>\n",
       "      <th>74678</th>\n",
       "      <td>2</td>\n",
       "      <td>2016-01-06 13:34:14</td>\n",
       "      <td>2016-01-06 13:48:25</td>\n",
       "      <td>6</td>\n",
       "      <td>5.99</td>\n",
       "      <td>None</td>\n",
       "      <td>None</td>\n",
       "      <td>-73.800514</td>\n",
       "      <td>40.703194</td>\n",
       "      <td>-73.782097</td>\n",
       "      <td>...</td>\n",
       "      <td>1</td>\n",
       "      <td>19.0</td>\n",
       "      <td>0.0</td>\n",
       "      <td>0.5</td>\n",
       "      <td>0.3</td>\n",
       "      <td>3.96</td>\n",
       "      <td>0.0</td>\n",
       "      <td>NaN</td>\n",
       "      <td>23.76</td>\n",
       "      <td>1.0</td>\n",
       "    </tr>\n",
       "    <tr>\n",
       "      <th>1009457</th>\n",
       "      <td>2</td>\n",
       "      <td>2016-01-21 18:11:30</td>\n",
       "      <td>2016-01-21 18:18:10</td>\n",
       "      <td>1</td>\n",
       "      <td>1.43</td>\n",
       "      <td>None</td>\n",
       "      <td>None</td>\n",
       "      <td>-73.871201</td>\n",
       "      <td>40.734097</td>\n",
       "      <td>-73.893471</td>\n",
       "      <td>...</td>\n",
       "      <td>2</td>\n",
       "      <td>7.0</td>\n",
       "      <td>1.0</td>\n",
       "      <td>0.5</td>\n",
       "      <td>0.3</td>\n",
       "      <td>0.00</td>\n",
       "      <td>0.0</td>\n",
       "      <td>NaN</td>\n",
       "      <td>8.80</td>\n",
       "      <td>1.0</td>\n",
       "    </tr>\n",
       "    <tr>\n",
       "      <th>456487</th>\n",
       "      <td>2</td>\n",
       "      <td>2016-01-08 15:11:11</td>\n",
       "      <td>2016-01-08 15:31:54</td>\n",
       "      <td>3</td>\n",
       "      <td>2.86</td>\n",
       "      <td>None</td>\n",
       "      <td>None</td>\n",
       "      <td>-73.964935</td>\n",
       "      <td>40.806732</td>\n",
       "      <td>-73.952667</td>\n",
       "      <td>...</td>\n",
       "      <td>2</td>\n",
       "      <td>15.0</td>\n",
       "      <td>0.0</td>\n",
       "      <td>0.5</td>\n",
       "      <td>0.3</td>\n",
       "      <td>0.00</td>\n",
       "      <td>0.0</td>\n",
       "      <td>NaN</td>\n",
       "      <td>15.80</td>\n",
       "      <td>1.0</td>\n",
       "    </tr>\n",
       "    <tr>\n",
       "      <th>1190069</th>\n",
       "      <td>2</td>\n",
       "      <td>2016-01-13 13:13:04</td>\n",
       "      <td>2016-01-13 13:22:01</td>\n",
       "      <td>1</td>\n",
       "      <td>1.54</td>\n",
       "      <td>None</td>\n",
       "      <td>None</td>\n",
       "      <td>-73.937912</td>\n",
       "      <td>40.803787</td>\n",
       "      <td>-73.945908</td>\n",
       "      <td>...</td>\n",
       "      <td>1</td>\n",
       "      <td>7.5</td>\n",
       "      <td>0.0</td>\n",
       "      <td>0.5</td>\n",
       "      <td>0.3</td>\n",
       "      <td>1.00</td>\n",
       "      <td>0.0</td>\n",
       "      <td>NaN</td>\n",
       "      <td>9.30</td>\n",
       "      <td>1.0</td>\n",
       "    </tr>\n",
       "    <tr>\n",
       "      <th>1352930</th>\n",
       "      <td>2</td>\n",
       "      <td>2016-01-06 20:07:20</td>\n",
       "      <td>2016-01-06 20:13:43</td>\n",
       "      <td>1</td>\n",
       "      <td>1.13</td>\n",
       "      <td>None</td>\n",
       "      <td>None</td>\n",
       "      <td>-73.903358</td>\n",
       "      <td>40.745880</td>\n",
       "      <td>-73.900352</td>\n",
       "      <td>...</td>\n",
       "      <td>1</td>\n",
       "      <td>6.5</td>\n",
       "      <td>0.5</td>\n",
       "      <td>0.5</td>\n",
       "      <td>0.3</td>\n",
       "      <td>1.56</td>\n",
       "      <td>0.0</td>\n",
       "      <td>NaN</td>\n",
       "      <td>9.36</td>\n",
       "      <td>1.0</td>\n",
       "    </tr>\n",
       "    <tr>\n",
       "      <th>526338</th>\n",
       "      <td>2</td>\n",
       "      <td>2016-01-11 22:40:39</td>\n",
       "      <td>2016-01-11 22:43:59</td>\n",
       "      <td>1</td>\n",
       "      <td>0.93</td>\n",
       "      <td>None</td>\n",
       "      <td>None</td>\n",
       "      <td>-73.991882</td>\n",
       "      <td>40.680847</td>\n",
       "      <td>-73.990875</td>\n",
       "      <td>...</td>\n",
       "      <td>1</td>\n",
       "      <td>5.0</td>\n",
       "      <td>0.5</td>\n",
       "      <td>0.5</td>\n",
       "      <td>0.3</td>\n",
       "      <td>0.00</td>\n",
       "      <td>0.0</td>\n",
       "      <td>NaN</td>\n",
       "      <td>6.30</td>\n",
       "      <td>1.0</td>\n",
       "    </tr>\n",
       "    <tr>\n",
       "      <th>281884</th>\n",
       "      <td>1</td>\n",
       "      <td>2016-01-22 10:11:32</td>\n",
       "      <td>2016-01-22 10:16:09</td>\n",
       "      <td>1</td>\n",
       "      <td>1.50</td>\n",
       "      <td>None</td>\n",
       "      <td>None</td>\n",
       "      <td>-73.949226</td>\n",
       "      <td>40.785248</td>\n",
       "      <td>-73.936462</td>\n",
       "      <td>...</td>\n",
       "      <td>1</td>\n",
       "      <td>6.0</td>\n",
       "      <td>0.0</td>\n",
       "      <td>0.5</td>\n",
       "      <td>0.3</td>\n",
       "      <td>1.35</td>\n",
       "      <td>0.0</td>\n",
       "      <td>NaN</td>\n",
       "      <td>8.15</td>\n",
       "      <td>1.0</td>\n",
       "    </tr>\n",
       "    <tr>\n",
       "      <th>959096</th>\n",
       "      <td>1</td>\n",
       "      <td>2016-01-16 02:31:47</td>\n",
       "      <td>2016-01-16 02:36:10</td>\n",
       "      <td>2</td>\n",
       "      <td>0.60</td>\n",
       "      <td>None</td>\n",
       "      <td>None</td>\n",
       "      <td>-73.951218</td>\n",
       "      <td>40.716808</td>\n",
       "      <td>-73.951202</td>\n",
       "      <td>...</td>\n",
       "      <td>1</td>\n",
       "      <td>5.0</td>\n",
       "      <td>0.5</td>\n",
       "      <td>0.5</td>\n",
       "      <td>0.3</td>\n",
       "      <td>1.25</td>\n",
       "      <td>0.0</td>\n",
       "      <td>NaN</td>\n",
       "      <td>7.55</td>\n",
       "      <td>1.0</td>\n",
       "    </tr>\n",
       "  </tbody>\n",
       "</table>\n",
       "<p>10 rows × 23 columns</p>\n",
       "</div>"
      ],
      "text/plain": [
       "         vendorID  lpepPickupDatetime lpepDropoffDatetime  passengerCount  \\\n",
       "742341          2 2016-01-09 21:17:14 2016-01-09 21:31:18               1   \n",
       "6046            2 2016-01-01 21:24:19 2016-01-01 21:40:52               1   \n",
       "74678           2 2016-01-06 13:34:14 2016-01-06 13:48:25               6   \n",
       "1009457         2 2016-01-21 18:11:30 2016-01-21 18:18:10               1   \n",
       "456487          2 2016-01-08 15:11:11 2016-01-08 15:31:54               3   \n",
       "1190069         2 2016-01-13 13:13:04 2016-01-13 13:22:01               1   \n",
       "1352930         2 2016-01-06 20:07:20 2016-01-06 20:13:43               1   \n",
       "526338          2 2016-01-11 22:40:39 2016-01-11 22:43:59               1   \n",
       "281884          1 2016-01-22 10:11:32 2016-01-22 10:16:09               1   \n",
       "959096          1 2016-01-16 02:31:47 2016-01-16 02:36:10               2   \n",
       "\n",
       "         tripDistance puLocationId doLocationId  pickupLongitude  \\\n",
       "742341           7.74         None         None       -73.962029   \n",
       "6046             3.84         None         None       -73.946091   \n",
       "74678            5.99         None         None       -73.800514   \n",
       "1009457          1.43         None         None       -73.871201   \n",
       "456487           2.86         None         None       -73.964935   \n",
       "1190069          1.54         None         None       -73.937912   \n",
       "1352930          1.13         None         None       -73.903358   \n",
       "526338           0.93         None         None       -73.991882   \n",
       "281884           1.50         None         None       -73.949226   \n",
       "959096           0.60         None         None       -73.951218   \n",
       "\n",
       "         pickupLatitude  dropoffLongitude  ...  paymentType  fareAmount extra  \\\n",
       "742341        40.715984        -73.976669  ...            2        22.5   0.5   \n",
       "6046          40.807102        -73.963226  ...            1        15.0   0.5   \n",
       "74678         40.703194        -73.782097  ...            1        19.0   0.0   \n",
       "1009457       40.734097        -73.893471  ...            2         7.0   1.0   \n",
       "456487        40.806732        -73.952667  ...            2        15.0   0.0   \n",
       "1190069       40.803787        -73.945908  ...            1         7.5   0.0   \n",
       "1352930       40.745880        -73.900352  ...            1         6.5   0.5   \n",
       "526338        40.680847        -73.990875  ...            1         5.0   0.5   \n",
       "281884        40.785248        -73.936462  ...            1         6.0   0.0   \n",
       "959096        40.716808        -73.951202  ...            1         5.0   0.5   \n",
       "\n",
       "         mtaTax  improvementSurcharge  tipAmount  tollsAmount ehailFee  \\\n",
       "742341      0.5                   0.3       0.00          0.0      NaN   \n",
       "6046        0.5                   0.3       3.26          0.0      NaN   \n",
       "74678       0.5                   0.3       3.96          0.0      NaN   \n",
       "1009457     0.5                   0.3       0.00          0.0      NaN   \n",
       "456487      0.5                   0.3       0.00          0.0      NaN   \n",
       "1190069     0.5                   0.3       1.00          0.0      NaN   \n",
       "1352930     0.5                   0.3       1.56          0.0      NaN   \n",
       "526338      0.5                   0.3       0.00          0.0      NaN   \n",
       "281884      0.5                   0.3       1.35          0.0      NaN   \n",
       "959096      0.5                   0.3       1.25          0.0      NaN   \n",
       "\n",
       "         totalAmount  tripType  \n",
       "742341         23.80       1.0  \n",
       "6046           19.56       1.0  \n",
       "74678          23.76       1.0  \n",
       "1009457         8.80       1.0  \n",
       "456487         15.80       1.0  \n",
       "1190069         9.30       1.0  \n",
       "1352930         9.36       1.0  \n",
       "526338          6.30       1.0  \n",
       "281884          8.15       1.0  \n",
       "959096          7.55       1.0  \n",
       "\n",
       "[10 rows x 23 columns]"
      ]
     },
     "execution_count": 5,
     "metadata": {},
     "output_type": "execute_result"
    }
   ],
   "source": [
    "green_taxi_df.head(10)"
   ]
  },
  {
   "cell_type": "code",
   "execution_count": 6,
   "id": "7dfd6407",
   "metadata": {},
   "outputs": [
    {
     "data": {
      "text/html": [
       "<div>\n",
       "<style scoped>\n",
       "    .dataframe tbody tr th:only-of-type {\n",
       "        vertical-align: middle;\n",
       "    }\n",
       "\n",
       "    .dataframe tbody tr th {\n",
       "        vertical-align: top;\n",
       "    }\n",
       "\n",
       "    .dataframe thead th {\n",
       "        text-align: right;\n",
       "    }\n",
       "</style>\n",
       "<table border=\"1\" class=\"dataframe\">\n",
       "  <thead>\n",
       "    <tr style=\"text-align: right;\">\n",
       "      <th></th>\n",
       "      <th>passengerCount</th>\n",
       "      <th>tripDistance</th>\n",
       "      <th>startLon</th>\n",
       "      <th>startLat</th>\n",
       "      <th>endLon</th>\n",
       "      <th>endLat</th>\n",
       "      <th>rateCodeId</th>\n",
       "      <th>fareAmount</th>\n",
       "      <th>extra</th>\n",
       "      <th>mtaTax</th>\n",
       "      <th>tipAmount</th>\n",
       "      <th>tollsAmount</th>\n",
       "      <th>totalAmount</th>\n",
       "    </tr>\n",
       "  </thead>\n",
       "  <tbody>\n",
       "    <tr>\n",
       "      <th>count</th>\n",
       "      <td>10000.000000</td>\n",
       "      <td>10000.000000</td>\n",
       "      <td>10000.000000</td>\n",
       "      <td>10000.000000</td>\n",
       "      <td>10000.000000</td>\n",
       "      <td>10000.000000</td>\n",
       "      <td>10000.000000</td>\n",
       "      <td>10000.000000</td>\n",
       "      <td>10000.000000</td>\n",
       "      <td>10000.000000</td>\n",
       "      <td>10000.000000</td>\n",
       "      <td>10000.000000</td>\n",
       "      <td>10000.000000</td>\n",
       "    </tr>\n",
       "    <tr>\n",
       "      <th>mean</th>\n",
       "      <td>1.675800</td>\n",
       "      <td>2.908236</td>\n",
       "      <td>-72.796263</td>\n",
       "      <td>40.103055</td>\n",
       "      <td>-72.878461</td>\n",
       "      <td>40.149277</td>\n",
       "      <td>1.034900</td>\n",
       "      <td>12.488377</td>\n",
       "      <td>0.315350</td>\n",
       "      <td>0.498150</td>\n",
       "      <td>1.775784</td>\n",
       "      <td>0.298251</td>\n",
       "      <td>15.675762</td>\n",
       "    </tr>\n",
       "    <tr>\n",
       "      <th>std</th>\n",
       "      <td>1.342116</td>\n",
       "      <td>3.618572</td>\n",
       "      <td>9.253664</td>\n",
       "      <td>5.097825</td>\n",
       "      <td>8.932911</td>\n",
       "      <td>4.921269</td>\n",
       "      <td>0.255907</td>\n",
       "      <td>10.984383</td>\n",
       "      <td>0.366323</td>\n",
       "      <td>0.031172</td>\n",
       "      <td>2.449633</td>\n",
       "      <td>1.383009</td>\n",
       "      <td>13.491677</td>\n",
       "    </tr>\n",
       "    <tr>\n",
       "      <th>min</th>\n",
       "      <td>1.000000</td>\n",
       "      <td>0.000000</td>\n",
       "      <td>-74.318916</td>\n",
       "      <td>0.000000</td>\n",
       "      <td>-74.318962</td>\n",
       "      <td>0.000000</td>\n",
       "      <td>1.000000</td>\n",
       "      <td>-6.500000</td>\n",
       "      <td>-0.500000</td>\n",
       "      <td>-0.500000</td>\n",
       "      <td>0.000000</td>\n",
       "      <td>0.000000</td>\n",
       "      <td>-7.800000</td>\n",
       "    </tr>\n",
       "    <tr>\n",
       "      <th>25%</th>\n",
       "      <td>1.000000</td>\n",
       "      <td>1.000000</td>\n",
       "      <td>-73.991465</td>\n",
       "      <td>40.736229</td>\n",
       "      <td>-73.991350</td>\n",
       "      <td>40.735488</td>\n",
       "      <td>1.000000</td>\n",
       "      <td>6.500000</td>\n",
       "      <td>0.000000</td>\n",
       "      <td>0.500000</td>\n",
       "      <td>0.000000</td>\n",
       "      <td>0.000000</td>\n",
       "      <td>8.300000</td>\n",
       "    </tr>\n",
       "    <tr>\n",
       "      <th>50%</th>\n",
       "      <td>1.000000</td>\n",
       "      <td>1.670000</td>\n",
       "      <td>-73.981300</td>\n",
       "      <td>40.753632</td>\n",
       "      <td>-73.979424</td>\n",
       "      <td>40.754776</td>\n",
       "      <td>1.000000</td>\n",
       "      <td>9.000000</td>\n",
       "      <td>0.000000</td>\n",
       "      <td>0.500000</td>\n",
       "      <td>1.350000</td>\n",
       "      <td>0.000000</td>\n",
       "      <td>11.620000</td>\n",
       "    </tr>\n",
       "    <tr>\n",
       "      <th>75%</th>\n",
       "      <td>2.000000</td>\n",
       "      <td>3.040000</td>\n",
       "      <td>-73.965637</td>\n",
       "      <td>40.768434</td>\n",
       "      <td>-73.961193</td>\n",
       "      <td>40.770023</td>\n",
       "      <td>1.000000</td>\n",
       "      <td>14.000000</td>\n",
       "      <td>0.500000</td>\n",
       "      <td>0.500000</td>\n",
       "      <td>2.300000</td>\n",
       "      <td>0.000000</td>\n",
       "      <td>17.160000</td>\n",
       "    </tr>\n",
       "    <tr>\n",
       "      <th>max</th>\n",
       "      <td>6.000000</td>\n",
       "      <td>28.600000</td>\n",
       "      <td>0.000000</td>\n",
       "      <td>40.910587</td>\n",
       "      <td>0.000000</td>\n",
       "      <td>40.944138</td>\n",
       "      <td>5.000000</td>\n",
       "      <td>299.000000</td>\n",
       "      <td>1.000000</td>\n",
       "      <td>0.500000</td>\n",
       "      <td>49.800000</td>\n",
       "      <td>23.580000</td>\n",
       "      <td>299.300000</td>\n",
       "    </tr>\n",
       "  </tbody>\n",
       "</table>\n",
       "</div>"
      ],
      "text/plain": [
       "       passengerCount  tripDistance      startLon      startLat        endLon  \\\n",
       "count    10000.000000  10000.000000  10000.000000  10000.000000  10000.000000   \n",
       "mean         1.675800      2.908236    -72.796263     40.103055    -72.878461   \n",
       "std          1.342116      3.618572      9.253664      5.097825      8.932911   \n",
       "min          1.000000      0.000000    -74.318916      0.000000    -74.318962   \n",
       "25%          1.000000      1.000000    -73.991465     40.736229    -73.991350   \n",
       "50%          1.000000      1.670000    -73.981300     40.753632    -73.979424   \n",
       "75%          2.000000      3.040000    -73.965637     40.768434    -73.961193   \n",
       "max          6.000000     28.600000      0.000000     40.910587      0.000000   \n",
       "\n",
       "             endLat    rateCodeId    fareAmount         extra        mtaTax  \\\n",
       "count  10000.000000  10000.000000  10000.000000  10000.000000  10000.000000   \n",
       "mean      40.149277      1.034900     12.488377      0.315350      0.498150   \n",
       "std        4.921269      0.255907     10.984383      0.366323      0.031172   \n",
       "min        0.000000      1.000000     -6.500000     -0.500000     -0.500000   \n",
       "25%       40.735488      1.000000      6.500000      0.000000      0.500000   \n",
       "50%       40.754776      1.000000      9.000000      0.000000      0.500000   \n",
       "75%       40.770023      1.000000     14.000000      0.500000      0.500000   \n",
       "max       40.944138      5.000000    299.000000      1.000000      0.500000   \n",
       "\n",
       "          tipAmount   tollsAmount   totalAmount  \n",
       "count  10000.000000  10000.000000  10000.000000  \n",
       "mean       1.775784      0.298251     15.675762  \n",
       "std        2.449633      1.383009     13.491677  \n",
       "min        0.000000      0.000000     -7.800000  \n",
       "25%        0.000000      0.000000      8.300000  \n",
       "50%        1.350000      0.000000     11.620000  \n",
       "75%        2.300000      0.000000     17.160000  \n",
       "max       49.800000     23.580000    299.300000  "
      ]
     },
     "execution_count": 6,
     "metadata": {},
     "output_type": "execute_result"
    }
   ],
   "source": [
    "yellow_taxi_df.describe()"
   ]
  },
  {
   "cell_type": "code",
   "execution_count": 7,
   "id": "a7dc249b",
   "metadata": {},
   "outputs": [
    {
     "data": {
      "text/html": [
       "<div>\n",
       "<style scoped>\n",
       "    .dataframe tbody tr th:only-of-type {\n",
       "        vertical-align: middle;\n",
       "    }\n",
       "\n",
       "    .dataframe tbody tr th {\n",
       "        vertical-align: top;\n",
       "    }\n",
       "\n",
       "    .dataframe thead th {\n",
       "        text-align: right;\n",
       "    }\n",
       "</style>\n",
       "<table border=\"1\" class=\"dataframe\">\n",
       "  <thead>\n",
       "    <tr style=\"text-align: right;\">\n",
       "      <th></th>\n",
       "      <th>vendorID</th>\n",
       "      <th>tpepPickupDateTime</th>\n",
       "      <th>tpepDropoffDateTime</th>\n",
       "      <th>passengerCount</th>\n",
       "      <th>tripDistance</th>\n",
       "      <th>puLocationId</th>\n",
       "      <th>doLocationId</th>\n",
       "      <th>startLon</th>\n",
       "      <th>startLat</th>\n",
       "      <th>endLon</th>\n",
       "      <th>...</th>\n",
       "      <th>rateCodeId</th>\n",
       "      <th>storeAndFwdFlag</th>\n",
       "      <th>paymentType</th>\n",
       "      <th>fareAmount</th>\n",
       "      <th>extra</th>\n",
       "      <th>mtaTax</th>\n",
       "      <th>improvementSurcharge</th>\n",
       "      <th>tipAmount</th>\n",
       "      <th>tollsAmount</th>\n",
       "      <th>totalAmount</th>\n",
       "    </tr>\n",
       "  </thead>\n",
       "  <tbody>\n",
       "    <tr>\n",
       "      <th>210315</th>\n",
       "      <td>1</td>\n",
       "      <td>2016-01-21 14:44:49</td>\n",
       "      <td>2016-01-21 14:49:25</td>\n",
       "      <td>1</td>\n",
       "      <td>0.90</td>\n",
       "      <td>None</td>\n",
       "      <td>None</td>\n",
       "      <td>-73.969429</td>\n",
       "      <td>40.785599</td>\n",
       "      <td>-73.960686</td>\n",
       "      <td>...</td>\n",
       "      <td>1</td>\n",
       "      <td>N</td>\n",
       "      <td>2</td>\n",
       "      <td>5.5</td>\n",
       "      <td>0.0</td>\n",
       "      <td>0.5</td>\n",
       "      <td>0.3</td>\n",
       "      <td>0.00</td>\n",
       "      <td>0.0</td>\n",
       "      <td>6.30</td>\n",
       "    </tr>\n",
       "    <tr>\n",
       "      <th>318103</th>\n",
       "      <td>1</td>\n",
       "      <td>2016-01-07 18:10:57</td>\n",
       "      <td>2016-01-07 18:40:49</td>\n",
       "      <td>1</td>\n",
       "      <td>3.20</td>\n",
       "      <td>None</td>\n",
       "      <td>None</td>\n",
       "      <td>-73.997383</td>\n",
       "      <td>40.720779</td>\n",
       "      <td>-73.990623</td>\n",
       "      <td>...</td>\n",
       "      <td>1</td>\n",
       "      <td>N</td>\n",
       "      <td>1</td>\n",
       "      <td>19.0</td>\n",
       "      <td>1.0</td>\n",
       "      <td>0.5</td>\n",
       "      <td>0.3</td>\n",
       "      <td>4.15</td>\n",
       "      <td>0.0</td>\n",
       "      <td>24.95</td>\n",
       "    </tr>\n",
       "    <tr>\n",
       "      <th>285861</th>\n",
       "      <td>1</td>\n",
       "      <td>2016-01-04 15:11:59</td>\n",
       "      <td>2016-01-04 15:16:54</td>\n",
       "      <td>1</td>\n",
       "      <td>0.80</td>\n",
       "      <td>None</td>\n",
       "      <td>None</td>\n",
       "      <td>-73.973900</td>\n",
       "      <td>40.791416</td>\n",
       "      <td>-73.980110</td>\n",
       "      <td>...</td>\n",
       "      <td>1</td>\n",
       "      <td>N</td>\n",
       "      <td>2</td>\n",
       "      <td>5.5</td>\n",
       "      <td>0.0</td>\n",
       "      <td>0.5</td>\n",
       "      <td>0.3</td>\n",
       "      <td>0.00</td>\n",
       "      <td>0.0</td>\n",
       "      <td>6.30</td>\n",
       "    </tr>\n",
       "    <tr>\n",
       "      <th>286064</th>\n",
       "      <td>2</td>\n",
       "      <td>2016-01-15 16:03:47</td>\n",
       "      <td>2016-01-15 16:07:32</td>\n",
       "      <td>1</td>\n",
       "      <td>0.90</td>\n",
       "      <td>None</td>\n",
       "      <td>None</td>\n",
       "      <td>-73.988548</td>\n",
       "      <td>40.759029</td>\n",
       "      <td>-73.978905</td>\n",
       "      <td>...</td>\n",
       "      <td>1</td>\n",
       "      <td>N</td>\n",
       "      <td>1</td>\n",
       "      <td>5.0</td>\n",
       "      <td>1.0</td>\n",
       "      <td>0.5</td>\n",
       "      <td>0.3</td>\n",
       "      <td>1.70</td>\n",
       "      <td>0.0</td>\n",
       "      <td>8.50</td>\n",
       "    </tr>\n",
       "    <tr>\n",
       "      <th>487891</th>\n",
       "      <td>2</td>\n",
       "      <td>2016-01-03 19:03:48</td>\n",
       "      <td>2016-01-03 19:17:46</td>\n",
       "      <td>1</td>\n",
       "      <td>2.27</td>\n",
       "      <td>None</td>\n",
       "      <td>None</td>\n",
       "      <td>-73.982132</td>\n",
       "      <td>40.742821</td>\n",
       "      <td>-73.999863</td>\n",
       "      <td>...</td>\n",
       "      <td>1</td>\n",
       "      <td>N</td>\n",
       "      <td>1</td>\n",
       "      <td>11.0</td>\n",
       "      <td>0.0</td>\n",
       "      <td>0.5</td>\n",
       "      <td>0.3</td>\n",
       "      <td>2.00</td>\n",
       "      <td>0.0</td>\n",
       "      <td>13.80</td>\n",
       "    </tr>\n",
       "    <tr>\n",
       "      <th>170993</th>\n",
       "      <td>1</td>\n",
       "      <td>2016-01-19 21:27:05</td>\n",
       "      <td>2016-01-19 21:32:13</td>\n",
       "      <td>1</td>\n",
       "      <td>0.90</td>\n",
       "      <td>None</td>\n",
       "      <td>None</td>\n",
       "      <td>-73.982254</td>\n",
       "      <td>40.765556</td>\n",
       "      <td>-73.992073</td>\n",
       "      <td>...</td>\n",
       "      <td>1</td>\n",
       "      <td>N</td>\n",
       "      <td>1</td>\n",
       "      <td>5.5</td>\n",
       "      <td>0.5</td>\n",
       "      <td>0.5</td>\n",
       "      <td>0.3</td>\n",
       "      <td>1.36</td>\n",
       "      <td>0.0</td>\n",
       "      <td>8.16</td>\n",
       "    </tr>\n",
       "    <tr>\n",
       "      <th>47304</th>\n",
       "      <td>2</td>\n",
       "      <td>2016-01-18 13:32:58</td>\n",
       "      <td>2016-01-18 13:40:02</td>\n",
       "      <td>1</td>\n",
       "      <td>1.16</td>\n",
       "      <td>None</td>\n",
       "      <td>None</td>\n",
       "      <td>-73.991554</td>\n",
       "      <td>40.739262</td>\n",
       "      <td>-74.005829</td>\n",
       "      <td>...</td>\n",
       "      <td>1</td>\n",
       "      <td>N</td>\n",
       "      <td>1</td>\n",
       "      <td>6.5</td>\n",
       "      <td>0.0</td>\n",
       "      <td>0.5</td>\n",
       "      <td>0.3</td>\n",
       "      <td>1.46</td>\n",
       "      <td>0.0</td>\n",
       "      <td>8.76</td>\n",
       "    </tr>\n",
       "    <tr>\n",
       "      <th>459866</th>\n",
       "      <td>2</td>\n",
       "      <td>2016-01-01 20:02:05</td>\n",
       "      <td>2016-01-01 20:10:07</td>\n",
       "      <td>1</td>\n",
       "      <td>1.71</td>\n",
       "      <td>None</td>\n",
       "      <td>None</td>\n",
       "      <td>0.000000</td>\n",
       "      <td>0.000000</td>\n",
       "      <td>0.000000</td>\n",
       "      <td>...</td>\n",
       "      <td>1</td>\n",
       "      <td>N</td>\n",
       "      <td>2</td>\n",
       "      <td>8.0</td>\n",
       "      <td>0.5</td>\n",
       "      <td>0.5</td>\n",
       "      <td>0.3</td>\n",
       "      <td>0.00</td>\n",
       "      <td>0.0</td>\n",
       "      <td>9.30</td>\n",
       "    </tr>\n",
       "    <tr>\n",
       "      <th>473785</th>\n",
       "      <td>1</td>\n",
       "      <td>2016-01-29 17:27:50</td>\n",
       "      <td>2016-01-29 17:31:23</td>\n",
       "      <td>1</td>\n",
       "      <td>0.80</td>\n",
       "      <td>None</td>\n",
       "      <td>None</td>\n",
       "      <td>-73.978851</td>\n",
       "      <td>40.740620</td>\n",
       "      <td>-73.986641</td>\n",
       "      <td>...</td>\n",
       "      <td>1</td>\n",
       "      <td>N</td>\n",
       "      <td>2</td>\n",
       "      <td>5.0</td>\n",
       "      <td>1.0</td>\n",
       "      <td>0.5</td>\n",
       "      <td>0.3</td>\n",
       "      <td>0.00</td>\n",
       "      <td>0.0</td>\n",
       "      <td>6.80</td>\n",
       "    </tr>\n",
       "    <tr>\n",
       "      <th>516843</th>\n",
       "      <td>1</td>\n",
       "      <td>2016-01-28 17:29:33</td>\n",
       "      <td>2016-01-28 17:37:14</td>\n",
       "      <td>1</td>\n",
       "      <td>1.10</td>\n",
       "      <td>None</td>\n",
       "      <td>None</td>\n",
       "      <td>-73.971626</td>\n",
       "      <td>40.766068</td>\n",
       "      <td>-73.958267</td>\n",
       "      <td>...</td>\n",
       "      <td>1</td>\n",
       "      <td>N</td>\n",
       "      <td>1</td>\n",
       "      <td>7.0</td>\n",
       "      <td>1.0</td>\n",
       "      <td>0.5</td>\n",
       "      <td>0.3</td>\n",
       "      <td>2.60</td>\n",
       "      <td>0.0</td>\n",
       "      <td>11.40</td>\n",
       "    </tr>\n",
       "  </tbody>\n",
       "</table>\n",
       "<p>10 rows × 21 columns</p>\n",
       "</div>"
      ],
      "text/plain": [
       "       vendorID  tpepPickupDateTime tpepDropoffDateTime  passengerCount  \\\n",
       "210315        1 2016-01-21 14:44:49 2016-01-21 14:49:25               1   \n",
       "318103        1 2016-01-07 18:10:57 2016-01-07 18:40:49               1   \n",
       "285861        1 2016-01-04 15:11:59 2016-01-04 15:16:54               1   \n",
       "286064        2 2016-01-15 16:03:47 2016-01-15 16:07:32               1   \n",
       "487891        2 2016-01-03 19:03:48 2016-01-03 19:17:46               1   \n",
       "170993        1 2016-01-19 21:27:05 2016-01-19 21:32:13               1   \n",
       "47304         2 2016-01-18 13:32:58 2016-01-18 13:40:02               1   \n",
       "459866        2 2016-01-01 20:02:05 2016-01-01 20:10:07               1   \n",
       "473785        1 2016-01-29 17:27:50 2016-01-29 17:31:23               1   \n",
       "516843        1 2016-01-28 17:29:33 2016-01-28 17:37:14               1   \n",
       "\n",
       "        tripDistance puLocationId doLocationId   startLon   startLat  \\\n",
       "210315          0.90         None         None -73.969429  40.785599   \n",
       "318103          3.20         None         None -73.997383  40.720779   \n",
       "285861          0.80         None         None -73.973900  40.791416   \n",
       "286064          0.90         None         None -73.988548  40.759029   \n",
       "487891          2.27         None         None -73.982132  40.742821   \n",
       "170993          0.90         None         None -73.982254  40.765556   \n",
       "47304           1.16         None         None -73.991554  40.739262   \n",
       "459866          1.71         None         None   0.000000   0.000000   \n",
       "473785          0.80         None         None -73.978851  40.740620   \n",
       "516843          1.10         None         None -73.971626  40.766068   \n",
       "\n",
       "           endLon  ...  rateCodeId  storeAndFwdFlag paymentType fareAmount  \\\n",
       "210315 -73.960686  ...           1                N           2        5.5   \n",
       "318103 -73.990623  ...           1                N           1       19.0   \n",
       "285861 -73.980110  ...           1                N           2        5.5   \n",
       "286064 -73.978905  ...           1                N           1        5.0   \n",
       "487891 -73.999863  ...           1                N           1       11.0   \n",
       "170993 -73.992073  ...           1                N           1        5.5   \n",
       "47304  -74.005829  ...           1                N           1        6.5   \n",
       "459866   0.000000  ...           1                N           2        8.0   \n",
       "473785 -73.986641  ...           1                N           2        5.0   \n",
       "516843 -73.958267  ...           1                N           1        7.0   \n",
       "\n",
       "        extra  mtaTax  improvementSurcharge tipAmount  tollsAmount  \\\n",
       "210315    0.0     0.5                   0.3      0.00          0.0   \n",
       "318103    1.0     0.5                   0.3      4.15          0.0   \n",
       "285861    0.0     0.5                   0.3      0.00          0.0   \n",
       "286064    1.0     0.5                   0.3      1.70          0.0   \n",
       "487891    0.0     0.5                   0.3      2.00          0.0   \n",
       "170993    0.5     0.5                   0.3      1.36          0.0   \n",
       "47304     0.0     0.5                   0.3      1.46          0.0   \n",
       "459866    0.5     0.5                   0.3      0.00          0.0   \n",
       "473785    1.0     0.5                   0.3      0.00          0.0   \n",
       "516843    1.0     0.5                   0.3      2.60          0.0   \n",
       "\n",
       "        totalAmount  \n",
       "210315         6.30  \n",
       "318103        24.95  \n",
       "285861         6.30  \n",
       "286064         8.50  \n",
       "487891        13.80  \n",
       "170993         8.16  \n",
       "47304          8.76  \n",
       "459866         9.30  \n",
       "473785         6.80  \n",
       "516843        11.40  \n",
       "\n",
       "[10 rows x 21 columns]"
      ]
     },
     "execution_count": 7,
     "metadata": {},
     "output_type": "execute_result"
    }
   ],
   "source": [
    "yellow_taxi_df.head(10)"
   ]
  },
  {
   "cell_type": "markdown",
   "id": "97c79d95",
   "metadata": {},
   "source": [
    "## Step 2. Data cleansing"
   ]
  },
  {
   "cell_type": "markdown",
   "id": "001db585",
   "metadata": {},
   "source": [
    "Let's start data cleaning with columns that have None values based on out initial observations.\n",
    "We will print a list of unique values for `puLocationId` and `doLocationId` columns."
   ]
  },
  {
   "cell_type": "code",
   "execution_count": 8,
   "id": "6486f896",
   "metadata": {},
   "outputs": [
    {
     "data": {
      "text/plain": [
       "array([None], dtype=object)"
      ]
     },
     "execution_count": 8,
     "metadata": {},
     "output_type": "execute_result"
    }
   ],
   "source": [
    "green_taxi_df['puLocationId'].unique()"
   ]
  },
  {
   "cell_type": "code",
   "execution_count": 9,
   "id": "3ca404ed",
   "metadata": {},
   "outputs": [
    {
     "data": {
      "text/plain": [
       "array([None], dtype=object)"
      ]
     },
     "execution_count": 9,
     "metadata": {},
     "output_type": "execute_result"
    }
   ],
   "source": [
    "green_taxi_df['doLocationId'].unique()"
   ]
  },
  {
   "cell_type": "markdown",
   "id": "80b6fd28",
   "metadata": {},
   "source": [
    "Looks like that both columns (at least in NYC Green) contain None values only. So, we will delete these columns from both datasets.\n",
    "\n",
    "Additionally, print lists of columns for both datasets and see if we can map them"
   ]
  },
  {
   "cell_type": "code",
   "execution_count": 10,
   "id": "861e05b4",
   "metadata": {},
   "outputs": [
    {
     "data": {
      "text/plain": [
       "Index(['vendorID', 'lpepPickupDatetime', 'lpepDropoffDatetime',\n",
       "       'passengerCount', 'tripDistance', 'puLocationId', 'doLocationId',\n",
       "       'pickupLongitude', 'pickupLatitude', 'dropoffLongitude',\n",
       "       'dropoffLatitude', 'rateCodeID', 'storeAndFwdFlag', 'paymentType',\n",
       "       'fareAmount', 'extra', 'mtaTax', 'improvementSurcharge', 'tipAmount',\n",
       "       'tollsAmount', 'ehailFee', 'totalAmount', 'tripType'],\n",
       "      dtype='object')"
      ]
     },
     "execution_count": 10,
     "metadata": {},
     "output_type": "execute_result"
    }
   ],
   "source": [
    "green_taxi_df.columns"
   ]
  },
  {
   "cell_type": "code",
   "execution_count": 11,
   "id": "bfeddde4",
   "metadata": {},
   "outputs": [
    {
     "data": {
      "text/plain": [
       "Index(['vendorID', 'tpepPickupDateTime', 'tpepDropoffDateTime',\n",
       "       'passengerCount', 'tripDistance', 'puLocationId', 'doLocationId',\n",
       "       'startLon', 'startLat', 'endLon', 'endLat', 'rateCodeId',\n",
       "       'storeAndFwdFlag', 'paymentType', 'fareAmount', 'extra', 'mtaTax',\n",
       "       'improvementSurcharge', 'tipAmount', 'tollsAmount', 'totalAmount'],\n",
       "      dtype='object')"
      ]
     },
     "execution_count": 11,
     "metadata": {},
     "output_type": "execute_result"
    }
   ],
   "source": [
    "yellow_taxi_df.columns"
   ]
  },
  {
   "cell_type": "markdown",
   "id": "b8f01b1e",
   "metadata": {},
   "source": [
    "The **ehailFee** and **tripType** columns will be deleted since they are not available in the yellow dataset.\n",
    "\n",
    "We will delete **puLocationId** and **doLocationId** as we noted above.\n",
    "\n",
    "From the cost perspective we are interested in **fareAmount** that is going to be out label. So, we will delete all other related columns like **tipAmount**, **tipAmount**, **mtaTax**, **tollsAmount**, **totalAmount**, **paymentType**, **extra**, **improvementSurcharge**. These columns are related to customers (how much tips customers usually leave) or collinear with **fareAmount** (like **mtaTax**). Of course, these columns may be useful for other tasks. For example, if we would like to predict quality of the service in a particular time frame, **tipAmount** is important.\n",
    "\n",
    "\n",
    "\n"
   ]
  },
  {
   "cell_type": "code",
   "execution_count": 12,
   "id": "05ae5abf",
   "metadata": {},
   "outputs": [],
   "source": [
    "green_columns = ['vendorID', 'lpepPickupDatetime', 'lpepDropoffDatetime',\n",
    "                 'passengerCount', 'tripDistance', 'pickupLongitude',\n",
    "                 'pickupLatitude', 'dropoffLongitude', 'dropoffLatitude',\n",
    "                 'storeAndFwdFlag', 'fareAmount']\n",
    "\n",
    "green_taxi_df_updated = green_taxi_df[green_columns]"
   ]
  },
  {
   "cell_type": "code",
   "execution_count": 13,
   "id": "94842154",
   "metadata": {},
   "outputs": [],
   "source": [
    "yellow_columns = ['vendorID', 'tpepPickupDateTime', 'tpepDropoffDateTime',\n",
    "                 'passengerCount', 'tripDistance', 'startLon',\n",
    "                 'startLat', 'endLon', 'endLat',\n",
    "                 'storeAndFwdFlag', 'fareAmount']\n",
    "\n",
    "yellow_taxi_df_updated = yellow_taxi_df[yellow_columns]"
   ]
  },
  {
   "cell_type": "markdown",
   "id": "ce08974a",
   "metadata": {},
   "source": [
    "Now, we need to rename columns that we have to have ability to merge both datasets."
   ]
  },
  {
   "cell_type": "code",
   "execution_count": 14,
   "id": "4f44af93",
   "metadata": {},
   "outputs": [],
   "source": [
    "green_columns_updated = {'vendorID':'vendor_id', 'lpepPickupDatetime':'pickup_dt', 'lpepDropoffDatetime':'dropoff_dt',\n",
    "                 'passengerCount':'passengers', 'tripDistance':'distance', 'pickupLongitude':'pickup_lon',\n",
    "                 'pickupLatitude':'pickup_lat', 'dropoffLongitude':'dropoff_lon', 'dropoffLatitude':'dropoff_lat',\n",
    "                 'storeAndFwdFlag':'store_flag', 'fareAmount':'fare_amount'}\n",
    "\n",
    "yellow_columns_updated = {'vendorID':'vendor_id', 'tpepPickupDateTime':'pickup_dt', 'tpepDropoffDateTime':'dropoff_dt',\n",
    "                 'passengerCount':'passengers', 'tripDistance':'distance', 'startLon':'pickup_lon',\n",
    "                 'startLat':'pickup_lat', 'endLon':'dropoff_lon', 'endLat':'dropoff_lat',\n",
    "                 'storeAndFwdFlag':'store_flag', 'fareAmount':'fare_amount'}"
   ]
  },
  {
   "cell_type": "code",
   "execution_count": 15,
   "id": "00a99b1d",
   "metadata": {},
   "outputs": [],
   "source": [
    "green_taxi_df_updated = green_taxi_df_updated.rename(columns = green_columns_updated)\n",
    "yellow_taxi_df_updated = yellow_taxi_df_updated.rename(columns = yellow_columns_updated)"
   ]
  },
  {
   "cell_type": "markdown",
   "id": "cd0c037b",
   "metadata": {},
   "source": [
    "Prior to merge the datasets we would like to validate data types."
   ]
  },
  {
   "cell_type": "code",
   "execution_count": 16,
   "id": "4f3d7d49",
   "metadata": {},
   "outputs": [
    {
     "name": "stdout",
     "output_type": "stream",
     "text": [
      "<class 'pandas.core.frame.DataFrame'>\n",
      "Int64Index: 10000 entries, 210315 to 437231\n",
      "Data columns (total 11 columns):\n",
      " #   Column       Non-Null Count  Dtype         \n",
      "---  ------       --------------  -----         \n",
      " 0   vendor_id    10000 non-null  object        \n",
      " 1   pickup_dt    10000 non-null  datetime64[ns]\n",
      " 2   dropoff_dt   10000 non-null  datetime64[ns]\n",
      " 3   passengers   10000 non-null  int32         \n",
      " 4   distance     10000 non-null  float64       \n",
      " 5   pickup_lon   10000 non-null  float64       \n",
      " 6   pickup_lat   10000 non-null  float64       \n",
      " 7   dropoff_lon  10000 non-null  float64       \n",
      " 8   dropoff_lat  10000 non-null  float64       \n",
      " 9   store_flag   10000 non-null  object        \n",
      " 10  fare_amount  10000 non-null  float64       \n",
      "dtypes: datetime64[ns](2), float64(6), int32(1), object(2)\n",
      "memory usage: 898.4+ KB\n"
     ]
    }
   ],
   "source": [
    "yellow_taxi_df_updated.info()"
   ]
  },
  {
   "cell_type": "code",
   "execution_count": 17,
   "id": "105c22cc",
   "metadata": {},
   "outputs": [
    {
     "name": "stdout",
     "output_type": "stream",
     "text": [
      "<class 'pandas.core.frame.DataFrame'>\n",
      "Int64Index: 10000 entries, 742341 to 454446\n",
      "Data columns (total 11 columns):\n",
      " #   Column       Non-Null Count  Dtype         \n",
      "---  ------       --------------  -----         \n",
      " 0   vendor_id    10000 non-null  int32         \n",
      " 1   pickup_dt    10000 non-null  datetime64[ns]\n",
      " 2   dropoff_dt   10000 non-null  datetime64[ns]\n",
      " 3   passengers   10000 non-null  int32         \n",
      " 4   distance     10000 non-null  float64       \n",
      " 5   pickup_lon   10000 non-null  float64       \n",
      " 6   pickup_lat   10000 non-null  float64       \n",
      " 7   dropoff_lon  10000 non-null  float64       \n",
      " 8   dropoff_lat  10000 non-null  float64       \n",
      " 9   store_flag   10000 non-null  object        \n",
      " 10  fare_amount  10000 non-null  float64       \n",
      "dtypes: datetime64[ns](2), float64(6), int32(2), object(1)\n",
      "memory usage: 859.4+ KB\n"
     ]
    }
   ],
   "source": [
    "green_taxi_df_updated.info()"
   ]
  },
  {
   "cell_type": "markdown",
   "id": "1ead7140",
   "metadata": {},
   "source": [
    "We can see that NYC Yellow has **vendor_id** as an object. So, we need to fix the data type prior to merge since NYC Green has **vendor_id** as integer."
   ]
  },
  {
   "cell_type": "code",
   "execution_count": 18,
   "id": "e941caac",
   "metadata": {},
   "outputs": [],
   "source": [
    "yellow_taxi_df_updated[\"vendor_id\"] = pd.to_numeric(yellow_taxi_df_updated[\"vendor_id\"])"
   ]
  },
  {
   "cell_type": "markdown",
   "id": "6fba9dc7",
   "metadata": {},
   "source": [
    "Concatenate both datasets and drop na values if we have (looking at the statistics above - we don't have null values, but we are just lucky because the full dataset contains some nulls)"
   ]
  },
  {
   "cell_type": "code",
   "execution_count": 42,
   "id": "0a300198",
   "metadata": {},
   "outputs": [],
   "source": [
    "full_taxi_df = pd.concat([green_taxi_df_updated, yellow_taxi_df_updated], ignore_index=True)\n",
    "full_taxi_df.reset_index(inplace=True, drop=True)\n",
    "full_taxi_df = full_taxi_df.dropna(how=\"all\")"
   ]
  },
  {
   "cell_type": "markdown",
   "id": "2aee1e83",
   "metadata": {},
   "source": [
    "Look at our dataset and its statistic"
   ]
  },
  {
   "cell_type": "code",
   "execution_count": 43,
   "id": "73f87270",
   "metadata": {},
   "outputs": [
    {
     "data": {
      "text/html": [
       "<div>\n",
       "<style scoped>\n",
       "    .dataframe tbody tr th:only-of-type {\n",
       "        vertical-align: middle;\n",
       "    }\n",
       "\n",
       "    .dataframe tbody tr th {\n",
       "        vertical-align: top;\n",
       "    }\n",
       "\n",
       "    .dataframe thead th {\n",
       "        text-align: right;\n",
       "    }\n",
       "</style>\n",
       "<table border=\"1\" class=\"dataframe\">\n",
       "  <thead>\n",
       "    <tr style=\"text-align: right;\">\n",
       "      <th></th>\n",
       "      <th>vendor_id</th>\n",
       "      <th>pickup_dt</th>\n",
       "      <th>dropoff_dt</th>\n",
       "      <th>passengers</th>\n",
       "      <th>distance</th>\n",
       "      <th>pickup_lon</th>\n",
       "      <th>pickup_lat</th>\n",
       "      <th>dropoff_lon</th>\n",
       "      <th>dropoff_lat</th>\n",
       "      <th>store_flag</th>\n",
       "      <th>fare_amount</th>\n",
       "    </tr>\n",
       "  </thead>\n",
       "  <tbody>\n",
       "    <tr>\n",
       "      <th>0</th>\n",
       "      <td>2</td>\n",
       "      <td>2016-01-09 21:17:14</td>\n",
       "      <td>2016-01-09 21:31:18</td>\n",
       "      <td>1</td>\n",
       "      <td>7.74</td>\n",
       "      <td>-73.962029</td>\n",
       "      <td>40.715984</td>\n",
       "      <td>-73.976669</td>\n",
       "      <td>40.649265</td>\n",
       "      <td>N</td>\n",
       "      <td>22.5</td>\n",
       "    </tr>\n",
       "    <tr>\n",
       "      <th>1</th>\n",
       "      <td>2</td>\n",
       "      <td>2016-01-01 21:24:19</td>\n",
       "      <td>2016-01-01 21:40:52</td>\n",
       "      <td>1</td>\n",
       "      <td>3.84</td>\n",
       "      <td>-73.946091</td>\n",
       "      <td>40.807102</td>\n",
       "      <td>-73.963226</td>\n",
       "      <td>40.762657</td>\n",
       "      <td>N</td>\n",
       "      <td>15.0</td>\n",
       "    </tr>\n",
       "    <tr>\n",
       "      <th>2</th>\n",
       "      <td>2</td>\n",
       "      <td>2016-01-06 13:34:14</td>\n",
       "      <td>2016-01-06 13:48:25</td>\n",
       "      <td>6</td>\n",
       "      <td>5.99</td>\n",
       "      <td>-73.800514</td>\n",
       "      <td>40.703194</td>\n",
       "      <td>-73.782097</td>\n",
       "      <td>40.644917</td>\n",
       "      <td>N</td>\n",
       "      <td>19.0</td>\n",
       "    </tr>\n",
       "    <tr>\n",
       "      <th>3</th>\n",
       "      <td>2</td>\n",
       "      <td>2016-01-21 18:11:30</td>\n",
       "      <td>2016-01-21 18:18:10</td>\n",
       "      <td>1</td>\n",
       "      <td>1.43</td>\n",
       "      <td>-73.871201</td>\n",
       "      <td>40.734097</td>\n",
       "      <td>-73.893471</td>\n",
       "      <td>40.742691</td>\n",
       "      <td>N</td>\n",
       "      <td>7.0</td>\n",
       "    </tr>\n",
       "    <tr>\n",
       "      <th>4</th>\n",
       "      <td>2</td>\n",
       "      <td>2016-01-08 15:11:11</td>\n",
       "      <td>2016-01-08 15:31:54</td>\n",
       "      <td>3</td>\n",
       "      <td>2.86</td>\n",
       "      <td>-73.964935</td>\n",
       "      <td>40.806732</td>\n",
       "      <td>-73.952667</td>\n",
       "      <td>40.780510</td>\n",
       "      <td>N</td>\n",
       "      <td>15.0</td>\n",
       "    </tr>\n",
       "    <tr>\n",
       "      <th>5</th>\n",
       "      <td>2</td>\n",
       "      <td>2016-01-13 13:13:04</td>\n",
       "      <td>2016-01-13 13:22:01</td>\n",
       "      <td>1</td>\n",
       "      <td>1.54</td>\n",
       "      <td>-73.937912</td>\n",
       "      <td>40.803787</td>\n",
       "      <td>-73.945908</td>\n",
       "      <td>40.785473</td>\n",
       "      <td>N</td>\n",
       "      <td>7.5</td>\n",
       "    </tr>\n",
       "    <tr>\n",
       "      <th>6</th>\n",
       "      <td>2</td>\n",
       "      <td>2016-01-06 20:07:20</td>\n",
       "      <td>2016-01-06 20:13:43</td>\n",
       "      <td>1</td>\n",
       "      <td>1.13</td>\n",
       "      <td>-73.903358</td>\n",
       "      <td>40.745880</td>\n",
       "      <td>-73.900352</td>\n",
       "      <td>40.734745</td>\n",
       "      <td>N</td>\n",
       "      <td>6.5</td>\n",
       "    </tr>\n",
       "    <tr>\n",
       "      <th>7</th>\n",
       "      <td>2</td>\n",
       "      <td>2016-01-11 22:40:39</td>\n",
       "      <td>2016-01-11 22:43:59</td>\n",
       "      <td>1</td>\n",
       "      <td>0.93</td>\n",
       "      <td>-73.991882</td>\n",
       "      <td>40.680847</td>\n",
       "      <td>-73.990875</td>\n",
       "      <td>40.671638</td>\n",
       "      <td>N</td>\n",
       "      <td>5.0</td>\n",
       "    </tr>\n",
       "    <tr>\n",
       "      <th>8</th>\n",
       "      <td>1</td>\n",
       "      <td>2016-01-22 10:11:32</td>\n",
       "      <td>2016-01-22 10:16:09</td>\n",
       "      <td>1</td>\n",
       "      <td>1.50</td>\n",
       "      <td>-73.949226</td>\n",
       "      <td>40.785248</td>\n",
       "      <td>-73.936462</td>\n",
       "      <td>40.804035</td>\n",
       "      <td>N</td>\n",
       "      <td>6.0</td>\n",
       "    </tr>\n",
       "    <tr>\n",
       "      <th>9</th>\n",
       "      <td>1</td>\n",
       "      <td>2016-01-16 02:31:47</td>\n",
       "      <td>2016-01-16 02:36:10</td>\n",
       "      <td>2</td>\n",
       "      <td>0.60</td>\n",
       "      <td>-73.951218</td>\n",
       "      <td>40.716808</td>\n",
       "      <td>-73.951202</td>\n",
       "      <td>40.708744</td>\n",
       "      <td>N</td>\n",
       "      <td>5.0</td>\n",
       "    </tr>\n",
       "  </tbody>\n",
       "</table>\n",
       "</div>"
      ],
      "text/plain": [
       "   vendor_id           pickup_dt          dropoff_dt  passengers  distance  \\\n",
       "0          2 2016-01-09 21:17:14 2016-01-09 21:31:18           1      7.74   \n",
       "1          2 2016-01-01 21:24:19 2016-01-01 21:40:52           1      3.84   \n",
       "2          2 2016-01-06 13:34:14 2016-01-06 13:48:25           6      5.99   \n",
       "3          2 2016-01-21 18:11:30 2016-01-21 18:18:10           1      1.43   \n",
       "4          2 2016-01-08 15:11:11 2016-01-08 15:31:54           3      2.86   \n",
       "5          2 2016-01-13 13:13:04 2016-01-13 13:22:01           1      1.54   \n",
       "6          2 2016-01-06 20:07:20 2016-01-06 20:13:43           1      1.13   \n",
       "7          2 2016-01-11 22:40:39 2016-01-11 22:43:59           1      0.93   \n",
       "8          1 2016-01-22 10:11:32 2016-01-22 10:16:09           1      1.50   \n",
       "9          1 2016-01-16 02:31:47 2016-01-16 02:36:10           2      0.60   \n",
       "\n",
       "   pickup_lon  pickup_lat  dropoff_lon  dropoff_lat store_flag  fare_amount  \n",
       "0  -73.962029   40.715984   -73.976669    40.649265          N         22.5  \n",
       "1  -73.946091   40.807102   -73.963226    40.762657          N         15.0  \n",
       "2  -73.800514   40.703194   -73.782097    40.644917          N         19.0  \n",
       "3  -73.871201   40.734097   -73.893471    40.742691          N          7.0  \n",
       "4  -73.964935   40.806732   -73.952667    40.780510          N         15.0  \n",
       "5  -73.937912   40.803787   -73.945908    40.785473          N          7.5  \n",
       "6  -73.903358   40.745880   -73.900352    40.734745          N          6.5  \n",
       "7  -73.991882   40.680847   -73.990875    40.671638          N          5.0  \n",
       "8  -73.949226   40.785248   -73.936462    40.804035          N          6.0  \n",
       "9  -73.951218   40.716808   -73.951202    40.708744          N          5.0  "
      ]
     },
     "execution_count": 43,
     "metadata": {},
     "output_type": "execute_result"
    }
   ],
   "source": [
    "full_taxi_df.head(10)"
   ]
  },
  {
   "cell_type": "code",
   "execution_count": 44,
   "id": "c36a2bb6",
   "metadata": {},
   "outputs": [
    {
     "data": {
      "text/html": [
       "<div>\n",
       "<style scoped>\n",
       "    .dataframe tbody tr th:only-of-type {\n",
       "        vertical-align: middle;\n",
       "    }\n",
       "\n",
       "    .dataframe tbody tr th {\n",
       "        vertical-align: top;\n",
       "    }\n",
       "\n",
       "    .dataframe thead th {\n",
       "        text-align: right;\n",
       "    }\n",
       "</style>\n",
       "<table border=\"1\" class=\"dataframe\">\n",
       "  <thead>\n",
       "    <tr style=\"text-align: right;\">\n",
       "      <th></th>\n",
       "      <th>vendor_id</th>\n",
       "      <th>passengers</th>\n",
       "      <th>distance</th>\n",
       "      <th>pickup_lon</th>\n",
       "      <th>pickup_lat</th>\n",
       "      <th>dropoff_lon</th>\n",
       "      <th>dropoff_lat</th>\n",
       "      <th>fare_amount</th>\n",
       "    </tr>\n",
       "  </thead>\n",
       "  <tbody>\n",
       "    <tr>\n",
       "      <th>count</th>\n",
       "      <td>20000.000000</td>\n",
       "      <td>20000.000000</td>\n",
       "      <td>20000.000000</td>\n",
       "      <td>20000.000000</td>\n",
       "      <td>20000.000000</td>\n",
       "      <td>20000.000000</td>\n",
       "      <td>20000.000000</td>\n",
       "      <td>20000.000000</td>\n",
       "    </tr>\n",
       "    <tr>\n",
       "      <th>mean</th>\n",
       "      <td>1.658350</td>\n",
       "      <td>1.518150</td>\n",
       "      <td>2.839413</td>\n",
       "      <td>-73.264864</td>\n",
       "      <td>40.367421</td>\n",
       "      <td>-73.338463</td>\n",
       "      <td>40.407952</td>\n",
       "      <td>12.269864</td>\n",
       "    </tr>\n",
       "    <tr>\n",
       "      <th>std</th>\n",
       "      <td>0.474275</td>\n",
       "      <td>1.204011</td>\n",
       "      <td>3.274397</td>\n",
       "      <td>7.124013</td>\n",
       "      <td>3.922220</td>\n",
       "      <td>6.736336</td>\n",
       "      <td>3.708458</td>\n",
       "      <td>11.408622</td>\n",
       "    </tr>\n",
       "    <tr>\n",
       "      <th>min</th>\n",
       "      <td>1.000000</td>\n",
       "      <td>0.000000</td>\n",
       "      <td>0.000000</td>\n",
       "      <td>-115.173744</td>\n",
       "      <td>0.000000</td>\n",
       "      <td>-115.143494</td>\n",
       "      <td>0.000000</td>\n",
       "      <td>-60.000000</td>\n",
       "    </tr>\n",
       "    <tr>\n",
       "      <th>25%</th>\n",
       "      <td>1.000000</td>\n",
       "      <td>1.000000</td>\n",
       "      <td>1.000000</td>\n",
       "      <td>-73.985443</td>\n",
       "      <td>40.720098</td>\n",
       "      <td>-73.985023</td>\n",
       "      <td>40.720049</td>\n",
       "      <td>6.500000</td>\n",
       "    </tr>\n",
       "    <tr>\n",
       "      <th>50%</th>\n",
       "      <td>2.000000</td>\n",
       "      <td>1.000000</td>\n",
       "      <td>1.700000</td>\n",
       "      <td>-73.962814</td>\n",
       "      <td>40.750221</td>\n",
       "      <td>-73.963894</td>\n",
       "      <td>40.751583</td>\n",
       "      <td>9.000000</td>\n",
       "    </tr>\n",
       "    <tr>\n",
       "      <th>75%</th>\n",
       "      <td>2.000000</td>\n",
       "      <td>1.000000</td>\n",
       "      <td>3.260000</td>\n",
       "      <td>-73.940548</td>\n",
       "      <td>40.774768</td>\n",
       "      <td>-73.938293</td>\n",
       "      <td>40.774396</td>\n",
       "      <td>14.500000</td>\n",
       "    </tr>\n",
       "    <tr>\n",
       "      <th>max</th>\n",
       "      <td>2.000000</td>\n",
       "      <td>6.000000</td>\n",
       "      <td>41.100000</td>\n",
       "      <td>0.000000</td>\n",
       "      <td>40.910587</td>\n",
       "      <td>0.000000</td>\n",
       "      <td>41.012783</td>\n",
       "      <td>499.000000</td>\n",
       "    </tr>\n",
       "  </tbody>\n",
       "</table>\n",
       "</div>"
      ],
      "text/plain": [
       "          vendor_id    passengers      distance    pickup_lon    pickup_lat  \\\n",
       "count  20000.000000  20000.000000  20000.000000  20000.000000  20000.000000   \n",
       "mean       1.658350      1.518150      2.839413    -73.264864     40.367421   \n",
       "std        0.474275      1.204011      3.274397      7.124013      3.922220   \n",
       "min        1.000000      0.000000      0.000000   -115.173744      0.000000   \n",
       "25%        1.000000      1.000000      1.000000    -73.985443     40.720098   \n",
       "50%        2.000000      1.000000      1.700000    -73.962814     40.750221   \n",
       "75%        2.000000      1.000000      3.260000    -73.940548     40.774768   \n",
       "max        2.000000      6.000000     41.100000      0.000000     40.910587   \n",
       "\n",
       "        dropoff_lon   dropoff_lat   fare_amount  \n",
       "count  20000.000000  20000.000000  20000.000000  \n",
       "mean     -73.338463     40.407952     12.269864  \n",
       "std        6.736336      3.708458     11.408622  \n",
       "min     -115.143494      0.000000    -60.000000  \n",
       "25%      -73.985023     40.720049      6.500000  \n",
       "50%      -73.963894     40.751583      9.000000  \n",
       "75%      -73.938293     40.774396     14.500000  \n",
       "max        0.000000     41.012783    499.000000  "
      ]
     },
     "execution_count": 44,
     "metadata": {},
     "output_type": "execute_result"
    }
   ],
   "source": [
    "full_taxi_df.describe()"
   ]
  },
  {
   "cell_type": "code",
   "execution_count": 45,
   "id": "6f6d72c2",
   "metadata": {},
   "outputs": [
    {
     "name": "stdout",
     "output_type": "stream",
     "text": [
      "<class 'pandas.core.frame.DataFrame'>\n",
      "RangeIndex: 20000 entries, 0 to 19999\n",
      "Data columns (total 11 columns):\n",
      " #   Column       Non-Null Count  Dtype         \n",
      "---  ------       --------------  -----         \n",
      " 0   vendor_id    20000 non-null  int64         \n",
      " 1   pickup_dt    20000 non-null  datetime64[ns]\n",
      " 2   dropoff_dt   20000 non-null  datetime64[ns]\n",
      " 3   passengers   20000 non-null  int32         \n",
      " 4   distance     20000 non-null  float64       \n",
      " 5   pickup_lon   20000 non-null  float64       \n",
      " 6   pickup_lat   20000 non-null  float64       \n",
      " 7   dropoff_lon  20000 non-null  float64       \n",
      " 8   dropoff_lat  20000 non-null  float64       \n",
      " 9   store_flag   20000 non-null  object        \n",
      " 10  fare_amount  20000 non-null  float64       \n",
      "dtypes: datetime64[ns](2), float64(6), int32(1), int64(1), object(1)\n",
      "memory usage: 1.6+ MB\n"
     ]
    }
   ],
   "source": [
    "full_taxi_df.info()"
   ]
  },
  {
   "cell_type": "markdown",
   "id": "2511d3ee",
   "metadata": {},
   "source": [
    "The only **object** column that we have is **store_flag**. Let's look at this column."
   ]
  },
  {
   "cell_type": "code",
   "execution_count": 46,
   "id": "cd3fb7cd",
   "metadata": {},
   "outputs": [
    {
     "data": {
      "text/plain": [
       "array(['N', 'Y'], dtype=object)"
      ]
     },
     "execution_count": 46,
     "metadata": {},
     "output_type": "execute_result"
    }
   ],
   "source": [
    "full_taxi_df['store_flag'].unique()"
   ]
  },
  {
   "cell_type": "code",
   "execution_count": 47,
   "id": "2bda9feb",
   "metadata": {},
   "outputs": [
    {
     "data": {
      "image/png": "[encoded data removed]",
      "text/plain": [
       "<Figure size 640x480 with 1 Axes>"
      ]
     },
     "metadata": {},
     "output_type": "display_data"
    }
   ],
   "source": [
    "full_taxi_df[\"store_flag\"].hist()\n",
    "plt.title(\"store_flag\")\n",
    "plt.show()"
   ]
  },
  {
   "cell_type": "code",
   "execution_count": 48,
   "id": "e4dcad65",
   "metadata": {},
   "outputs": [
    {
     "data": {
      "text/plain": [
       "87"
      ]
     },
     "execution_count": 48,
     "metadata": {},
     "output_type": "execute_result"
    }
   ],
   "source": [
    "len(full_taxi_df[full_taxi_df[\"store_flag\"]==\"Y\"])"
   ]
  },
  {
   "cell_type": "markdown",
   "id": "35355deb",
   "metadata": {},
   "source": [
    "The **store_flag** column are very unbalanced. 87 of 20000 values - it's less then 0.2%. So, we cannot use this column for this data slice, and we will drop it."
   ]
  },
  {
   "cell_type": "code",
   "execution_count": 49,
   "id": "816e3a70",
   "metadata": {},
   "outputs": [],
   "source": [
    "full_taxi_df = full_taxi_df.drop(['store_flag'], axis=1)"
   ]
  },
  {
   "cell_type": "markdown",
   "id": "1f57bd69",
   "metadata": {},
   "source": [
    "Let's look at **vendor_id** column that has few unique values only."
   ]
  },
  {
   "cell_type": "code",
   "execution_count": 50,
   "id": "1f576ba4",
   "metadata": {},
   "outputs": [
    {
     "data": {
      "text/plain": [
       "array([2, 1])"
      ]
     },
     "execution_count": 50,
     "metadata": {},
     "output_type": "execute_result"
    }
   ],
   "source": [
    "full_taxi_df['vendor_id'].unique()"
   ]
  },
  {
   "cell_type": "code",
   "execution_count": 51,
   "id": "b40f028f",
   "metadata": {},
   "outputs": [
    {
     "data": {
      "image/png": "[encoded data removed]",
      "text/plain": [
       "<Figure size 640x480 with 1 Axes>"
      ]
     },
     "metadata": {},
     "output_type": "display_data"
    }
   ],
   "source": [
    "full_taxi_df[\"vendor_id\"].hist()\n",
    "plt.title(\"vendor_id\")\n",
    "plt.show()"
   ]
  },
  {
   "cell_type": "markdown",
   "id": "bad41f53",
   "metadata": {},
   "source": [
    "The column is balanced, and we can use it. At the same time it contains two unique values only. So, we will convert it into a binary column (0, 1). "
   ]
  },
  {
   "cell_type": "code",
   "execution_count": 52,
   "id": "d37c7925",
   "metadata": {},
   "outputs": [],
   "source": [
    "full_taxi_df[\"vendor_id\"] = np.where((full_taxi_df.vendor_id ==1), 0, 1)"
   ]
  },
  {
   "cell_type": "markdown",
   "id": "b70cb38d",
   "metadata": {},
   "source": [
    "Let's remove few anomalies that we mentioned above (0 position and non-positive fare)."
   ]
  },
  {
   "cell_type": "code",
   "execution_count": 53,
   "id": "61071579",
   "metadata": {},
   "outputs": [],
   "source": [
    "full_taxi_df = full_taxi_df[(full_taxi_df['pickup_lat']>0) \n",
    "                            & (full_taxi_df['dropoff_lat']>0) \n",
    "                            & (full_taxi_df['pickup_lon']>-75)\n",
    "                            & (full_taxi_df['dropoff_lon']>-75)\n",
    "                            & (full_taxi_df['fare_amount']>=0)]"
   ]
  },
  {
   "cell_type": "code",
   "execution_count": 54,
   "id": "bac1d396",
   "metadata": {},
   "outputs": [
    {
     "data": {
      "text/html": [
       "<div>\n",
       "<style scoped>\n",
       "    .dataframe tbody tr th:only-of-type {\n",
       "        vertical-align: middle;\n",
       "    }\n",
       "\n",
       "    .dataframe tbody tr th {\n",
       "        vertical-align: top;\n",
       "    }\n",
       "\n",
       "    .dataframe thead th {\n",
       "        text-align: right;\n",
       "    }\n",
       "</style>\n",
       "<table border=\"1\" class=\"dataframe\">\n",
       "  <thead>\n",
       "    <tr style=\"text-align: right;\">\n",
       "      <th></th>\n",
       "      <th>vendor_id</th>\n",
       "      <th>passengers</th>\n",
       "      <th>distance</th>\n",
       "      <th>pickup_lon</th>\n",
       "      <th>pickup_lat</th>\n",
       "      <th>dropoff_lon</th>\n",
       "      <th>dropoff_lat</th>\n",
       "      <th>fare_amount</th>\n",
       "    </tr>\n",
       "  </thead>\n",
       "  <tbody>\n",
       "    <tr>\n",
       "      <th>count</th>\n",
       "      <td>19766.000000</td>\n",
       "      <td>19766.000000</td>\n",
       "      <td>19766.000000</td>\n",
       "      <td>19766.000000</td>\n",
       "      <td>19766.000000</td>\n",
       "      <td>19766.000000</td>\n",
       "      <td>19766.000000</td>\n",
       "      <td>19766.000000</td>\n",
       "    </tr>\n",
       "    <tr>\n",
       "      <th>mean</th>\n",
       "      <td>0.660933</td>\n",
       "      <td>1.518972</td>\n",
       "      <td>2.847624</td>\n",
       "      <td>-73.954293</td>\n",
       "      <td>40.748661</td>\n",
       "      <td>-73.953946</td>\n",
       "      <td>40.748432</td>\n",
       "      <td>12.289454</td>\n",
       "    </tr>\n",
       "    <tr>\n",
       "      <th>std</th>\n",
       "      <td>0.473405</td>\n",
       "      <td>1.205317</td>\n",
       "      <td>3.273810</td>\n",
       "      <td>0.045097</td>\n",
       "      <td>0.045683</td>\n",
       "      <td>0.047603</td>\n",
       "      <td>0.047271</td>\n",
       "      <td>11.352945</td>\n",
       "    </tr>\n",
       "    <tr>\n",
       "      <th>min</th>\n",
       "      <td>0.000000</td>\n",
       "      <td>0.000000</td>\n",
       "      <td>0.000000</td>\n",
       "      <td>-74.318916</td>\n",
       "      <td>40.576401</td>\n",
       "      <td>-74.318962</td>\n",
       "      <td>40.545406</td>\n",
       "      <td>0.000000</td>\n",
       "    </tr>\n",
       "    <tr>\n",
       "      <th>25%</th>\n",
       "      <td>0.000000</td>\n",
       "      <td>1.000000</td>\n",
       "      <td>1.000000</td>\n",
       "      <td>-73.985596</td>\n",
       "      <td>40.721111</td>\n",
       "      <td>-73.985180</td>\n",
       "      <td>40.721192</td>\n",
       "      <td>6.500000</td>\n",
       "    </tr>\n",
       "    <tr>\n",
       "      <th>50%</th>\n",
       "      <td>1.000000</td>\n",
       "      <td>1.000000</td>\n",
       "      <td>1.710000</td>\n",
       "      <td>-73.963436</td>\n",
       "      <td>40.750565</td>\n",
       "      <td>-73.964413</td>\n",
       "      <td>40.751957</td>\n",
       "      <td>9.000000</td>\n",
       "    </tr>\n",
       "    <tr>\n",
       "      <th>75%</th>\n",
       "      <td>1.000000</td>\n",
       "      <td>1.000000</td>\n",
       "      <td>3.280000</td>\n",
       "      <td>-73.941620</td>\n",
       "      <td>40.775017</td>\n",
       "      <td>-73.939140</td>\n",
       "      <td>40.774520</td>\n",
       "      <td>14.500000</td>\n",
       "    </tr>\n",
       "    <tr>\n",
       "      <th>max</th>\n",
       "      <td>1.000000</td>\n",
       "      <td>6.000000</td>\n",
       "      <td>41.100000</td>\n",
       "      <td>-73.610382</td>\n",
       "      <td>40.910587</td>\n",
       "      <td>-73.386757</td>\n",
       "      <td>41.012783</td>\n",
       "      <td>499.000000</td>\n",
       "    </tr>\n",
       "  </tbody>\n",
       "</table>\n",
       "</div>"
      ],
      "text/plain": [
       "          vendor_id    passengers      distance    pickup_lon    pickup_lat  \\\n",
       "count  19766.000000  19766.000000  19766.000000  19766.000000  19766.000000   \n",
       "mean       0.660933      1.518972      2.847624    -73.954293     40.748661   \n",
       "std        0.473405      1.205317      3.273810      0.045097      0.045683   \n",
       "min        0.000000      0.000000      0.000000    -74.318916     40.576401   \n",
       "25%        0.000000      1.000000      1.000000    -73.985596     40.721111   \n",
       "50%        1.000000      1.000000      1.710000    -73.963436     40.750565   \n",
       "75%        1.000000      1.000000      3.280000    -73.941620     40.775017   \n",
       "max        1.000000      6.000000     41.100000    -73.610382     40.910587   \n",
       "\n",
       "        dropoff_lon   dropoff_lat   fare_amount  \n",
       "count  19766.000000  19766.000000  19766.000000  \n",
       "mean     -73.953946     40.748432     12.289454  \n",
       "std        0.047603      0.047271     11.352945  \n",
       "min      -74.318962     40.545406      0.000000  \n",
       "25%      -73.985180     40.721192      6.500000  \n",
       "50%      -73.964413     40.751957      9.000000  \n",
       "75%      -73.939140     40.774520     14.500000  \n",
       "max      -73.386757     41.012783    499.000000  "
      ]
     },
     "execution_count": 54,
     "metadata": {},
     "output_type": "execute_result"
    }
   ],
   "source": [
    "full_taxi_df.describe()"
   ]
  },
  {
   "cell_type": "markdown",
   "id": "62dcea68",
   "metadata": {},
   "source": [
    "The **distance** column contains 0 as minimum - it's one more anomaly that we would like to remove."
   ]
  },
  {
   "cell_type": "code",
   "execution_count": 55,
   "id": "317acb18",
   "metadata": {},
   "outputs": [
    {
     "data": {
      "image/png": "[encoded data removed]",
      "text/plain": [
       "<Figure size 640x480 with 1 Axes>"
      ]
     },
     "metadata": {},
     "output_type": "display_data"
    }
   ],
   "source": [
    "full_taxi_df[\"distance\"].hist()\n",
    "plt.title(\"distance\")\n",
    "plt.show()"
   ]
  },
  {
   "cell_type": "code",
   "execution_count": 56,
   "id": "baf90311",
   "metadata": {},
   "outputs": [],
   "source": [
    "full_taxi_df = full_taxi_df[full_taxi_df['distance']!=0]"
   ]
  },
  {
   "cell_type": "code",
   "execution_count": 57,
   "id": "bc5cf150",
   "metadata": {},
   "outputs": [
    {
     "data": {
      "text/html": [
       "<div>\n",
       "<style scoped>\n",
       "    .dataframe tbody tr th:only-of-type {\n",
       "        vertical-align: middle;\n",
       "    }\n",
       "\n",
       "    .dataframe tbody tr th {\n",
       "        vertical-align: top;\n",
       "    }\n",
       "\n",
       "    .dataframe thead th {\n",
       "        text-align: right;\n",
       "    }\n",
       "</style>\n",
       "<table border=\"1\" class=\"dataframe\">\n",
       "  <thead>\n",
       "    <tr style=\"text-align: right;\">\n",
       "      <th></th>\n",
       "      <th>vendor_id</th>\n",
       "      <th>passengers</th>\n",
       "      <th>distance</th>\n",
       "      <th>pickup_lon</th>\n",
       "      <th>pickup_lat</th>\n",
       "      <th>dropoff_lon</th>\n",
       "      <th>dropoff_lat</th>\n",
       "      <th>fare_amount</th>\n",
       "    </tr>\n",
       "  </thead>\n",
       "  <tbody>\n",
       "    <tr>\n",
       "      <th>count</th>\n",
       "      <td>19597.000000</td>\n",
       "      <td>19597.000000</td>\n",
       "      <td>19597.000000</td>\n",
       "      <td>19597.000000</td>\n",
       "      <td>19597.000000</td>\n",
       "      <td>19597.000000</td>\n",
       "      <td>19597.000000</td>\n",
       "      <td>19597.000000</td>\n",
       "    </tr>\n",
       "    <tr>\n",
       "      <th>mean</th>\n",
       "      <td>0.660254</td>\n",
       "      <td>1.520896</td>\n",
       "      <td>2.872181</td>\n",
       "      <td>-73.954559</td>\n",
       "      <td>40.748717</td>\n",
       "      <td>-73.954209</td>\n",
       "      <td>40.748482</td>\n",
       "      <td>12.208161</td>\n",
       "    </tr>\n",
       "    <tr>\n",
       "      <th>std</th>\n",
       "      <td>0.473635</td>\n",
       "      <td>1.207682</td>\n",
       "      <td>3.277153</td>\n",
       "      <td>0.044737</td>\n",
       "      <td>0.045457</td>\n",
       "      <td>0.047287</td>\n",
       "      <td>0.047067</td>\n",
       "      <td>10.087562</td>\n",
       "    </tr>\n",
       "    <tr>\n",
       "      <th>min</th>\n",
       "      <td>0.000000</td>\n",
       "      <td>0.000000</td>\n",
       "      <td>0.010000</td>\n",
       "      <td>-74.156616</td>\n",
       "      <td>40.576401</td>\n",
       "      <td>-74.185951</td>\n",
       "      <td>40.545406</td>\n",
       "      <td>0.000000</td>\n",
       "    </tr>\n",
       "    <tr>\n",
       "      <th>25%</th>\n",
       "      <td>0.000000</td>\n",
       "      <td>1.000000</td>\n",
       "      <td>1.010000</td>\n",
       "      <td>-73.985657</td>\n",
       "      <td>40.721218</td>\n",
       "      <td>-73.985268</td>\n",
       "      <td>40.721390</td>\n",
       "      <td>6.500000</td>\n",
       "    </tr>\n",
       "    <tr>\n",
       "      <th>50%</th>\n",
       "      <td>1.000000</td>\n",
       "      <td>1.000000</td>\n",
       "      <td>1.740000</td>\n",
       "      <td>-73.963661</td>\n",
       "      <td>40.750614</td>\n",
       "      <td>-73.964752</td>\n",
       "      <td>40.752029</td>\n",
       "      <td>9.000000</td>\n",
       "    </tr>\n",
       "    <tr>\n",
       "      <th>75%</th>\n",
       "      <td>1.000000</td>\n",
       "      <td>1.000000</td>\n",
       "      <td>3.300000</td>\n",
       "      <td>-73.941933</td>\n",
       "      <td>40.775021</td>\n",
       "      <td>-73.939407</td>\n",
       "      <td>40.774521</td>\n",
       "      <td>14.500000</td>\n",
       "    </tr>\n",
       "    <tr>\n",
       "      <th>max</th>\n",
       "      <td>1.000000</td>\n",
       "      <td>6.000000</td>\n",
       "      <td>41.100000</td>\n",
       "      <td>-73.610382</td>\n",
       "      <td>40.903889</td>\n",
       "      <td>-73.386757</td>\n",
       "      <td>41.012783</td>\n",
       "      <td>299.000000</td>\n",
       "    </tr>\n",
       "  </tbody>\n",
       "</table>\n",
       "</div>"
      ],
      "text/plain": [
       "          vendor_id    passengers      distance    pickup_lon    pickup_lat  \\\n",
       "count  19597.000000  19597.000000  19597.000000  19597.000000  19597.000000   \n",
       "mean       0.660254      1.520896      2.872181    -73.954559     40.748717   \n",
       "std        0.473635      1.207682      3.277153      0.044737      0.045457   \n",
       "min        0.000000      0.000000      0.010000    -74.156616     40.576401   \n",
       "25%        0.000000      1.000000      1.010000    -73.985657     40.721218   \n",
       "50%        1.000000      1.000000      1.740000    -73.963661     40.750614   \n",
       "75%        1.000000      1.000000      3.300000    -73.941933     40.775021   \n",
       "max        1.000000      6.000000     41.100000    -73.610382     40.903889   \n",
       "\n",
       "        dropoff_lon   dropoff_lat   fare_amount  \n",
       "count  19597.000000  19597.000000  19597.000000  \n",
       "mean     -73.954209     40.748482     12.208161  \n",
       "std        0.047287      0.047067     10.087562  \n",
       "min      -74.185951     40.545406      0.000000  \n",
       "25%      -73.985268     40.721390      6.500000  \n",
       "50%      -73.964752     40.752029      9.000000  \n",
       "75%      -73.939407     40.774521     14.500000  \n",
       "max      -73.386757     41.012783    299.000000  "
      ]
     },
     "execution_count": 57,
     "metadata": {},
     "output_type": "execute_result"
    }
   ],
   "source": [
    "full_taxi_df.describe()"
   ]
  },
  {
   "cell_type": "markdown",
   "id": "4d5cae21",
   "metadata": {},
   "source": [
    "Finally, let's look at **fare_amount** distribution."
   ]
  },
  {
   "cell_type": "code",
   "execution_count": 58,
   "id": "adf17ff1",
   "metadata": {},
   "outputs": [
    {
     "data": {
      "image/png": "[encoded data removed]",
      "text/plain": [
       "<Figure size 640x480 with 1 Axes>"
      ]
     },
     "metadata": {},
     "output_type": "display_data"
    }
   ],
   "source": [
    "full_taxi_df[\"fare_amount\"].hist()\n",
    "plt.title(\"Fare Amount\")\n",
    "plt.show()"
   ]
  },
  {
   "cell_type": "markdown",
   "id": "9f9510f5",
   "metadata": {},
   "source": [
    "We can see that the most of the data for **fare_amount** is in [0;70] range. Let's remove everything that is less or equal 0 (I can pay 0 dollars if I have a bonus trip, but we don't need these values for fair fare prediction). "
   ]
  },
  {
   "cell_type": "code",
   "execution_count": 60,
   "id": "7451a7b1",
   "metadata": {},
   "outputs": [],
   "source": [
    "full_taxi_df = full_taxi_df[(full_taxi_df['fare_amount']>0) & (full_taxi_df['fare_amount']<70)]"
   ]
  },
  {
   "cell_type": "code",
   "execution_count": 61,
   "id": "44a09047",
   "metadata": {},
   "outputs": [
    {
     "data": {
      "text/html": [
       "<div>\n",
       "<style scoped>\n",
       "    .dataframe tbody tr th:only-of-type {\n",
       "        vertical-align: middle;\n",
       "    }\n",
       "\n",
       "    .dataframe tbody tr th {\n",
       "        vertical-align: top;\n",
       "    }\n",
       "\n",
       "    .dataframe thead th {\n",
       "        text-align: right;\n",
       "    }\n",
       "</style>\n",
       "<table border=\"1\" class=\"dataframe\">\n",
       "  <thead>\n",
       "    <tr style=\"text-align: right;\">\n",
       "      <th></th>\n",
       "      <th>vendor_id</th>\n",
       "      <th>passengers</th>\n",
       "      <th>distance</th>\n",
       "      <th>pickup_lon</th>\n",
       "      <th>pickup_lat</th>\n",
       "      <th>dropoff_lon</th>\n",
       "      <th>dropoff_lat</th>\n",
       "      <th>fare_amount</th>\n",
       "    </tr>\n",
       "  </thead>\n",
       "  <tbody>\n",
       "    <tr>\n",
       "      <th>count</th>\n",
       "      <td>19549.000000</td>\n",
       "      <td>19549.000000</td>\n",
       "      <td>19549.000000</td>\n",
       "      <td>19549.000000</td>\n",
       "      <td>19549.000000</td>\n",
       "      <td>19549.000000</td>\n",
       "      <td>19549.000000</td>\n",
       "      <td>19549.000000</td>\n",
       "    </tr>\n",
       "    <tr>\n",
       "      <th>mean</th>\n",
       "      <td>0.660903</td>\n",
       "      <td>1.521715</td>\n",
       "      <td>2.848810</td>\n",
       "      <td>-73.954659</td>\n",
       "      <td>40.748703</td>\n",
       "      <td>-73.954265</td>\n",
       "      <td>40.748454</td>\n",
       "      <td>12.085086</td>\n",
       "    </tr>\n",
       "    <tr>\n",
       "      <th>std</th>\n",
       "      <td>0.473415</td>\n",
       "      <td>1.208854</td>\n",
       "      <td>3.200475</td>\n",
       "      <td>0.044554</td>\n",
       "      <td>0.045389</td>\n",
       "      <td>0.046595</td>\n",
       "      <td>0.046960</td>\n",
       "      <td>9.185180</td>\n",
       "    </tr>\n",
       "    <tr>\n",
       "      <th>min</th>\n",
       "      <td>0.000000</td>\n",
       "      <td>0.000000</td>\n",
       "      <td>0.010000</td>\n",
       "      <td>-74.156616</td>\n",
       "      <td>40.576401</td>\n",
       "      <td>-74.185951</td>\n",
       "      <td>40.545406</td>\n",
       "      <td>0.010000</td>\n",
       "    </tr>\n",
       "    <tr>\n",
       "      <th>25%</th>\n",
       "      <td>0.000000</td>\n",
       "      <td>1.000000</td>\n",
       "      <td>1.010000</td>\n",
       "      <td>-73.985672</td>\n",
       "      <td>40.721218</td>\n",
       "      <td>-73.985260</td>\n",
       "      <td>40.721432</td>\n",
       "      <td>6.500000</td>\n",
       "    </tr>\n",
       "    <tr>\n",
       "      <th>50%</th>\n",
       "      <td>1.000000</td>\n",
       "      <td>1.000000</td>\n",
       "      <td>1.730000</td>\n",
       "      <td>-73.963745</td>\n",
       "      <td>40.750614</td>\n",
       "      <td>-73.964783</td>\n",
       "      <td>40.752056</td>\n",
       "      <td>9.000000</td>\n",
       "    </tr>\n",
       "    <tr>\n",
       "      <th>75%</th>\n",
       "      <td>1.000000</td>\n",
       "      <td>1.000000</td>\n",
       "      <td>3.300000</td>\n",
       "      <td>-73.942024</td>\n",
       "      <td>40.775002</td>\n",
       "      <td>-73.939484</td>\n",
       "      <td>40.774502</td>\n",
       "      <td>14.500000</td>\n",
       "    </tr>\n",
       "    <tr>\n",
       "      <th>max</th>\n",
       "      <td>1.000000</td>\n",
       "      <td>6.000000</td>\n",
       "      <td>28.540000</td>\n",
       "      <td>-73.665794</td>\n",
       "      <td>40.903889</td>\n",
       "      <td>-73.683701</td>\n",
       "      <td>41.012783</td>\n",
       "      <td>69.500000</td>\n",
       "    </tr>\n",
       "  </tbody>\n",
       "</table>\n",
       "</div>"
      ],
      "text/plain": [
       "          vendor_id    passengers      distance    pickup_lon    pickup_lat  \\\n",
       "count  19549.000000  19549.000000  19549.000000  19549.000000  19549.000000   \n",
       "mean       0.660903      1.521715      2.848810    -73.954659     40.748703   \n",
       "std        0.473415      1.208854      3.200475      0.044554      0.045389   \n",
       "min        0.000000      0.000000      0.010000    -74.156616     40.576401   \n",
       "25%        0.000000      1.000000      1.010000    -73.985672     40.721218   \n",
       "50%        1.000000      1.000000      1.730000    -73.963745     40.750614   \n",
       "75%        1.000000      1.000000      3.300000    -73.942024     40.775002   \n",
       "max        1.000000      6.000000     28.540000    -73.665794     40.903889   \n",
       "\n",
       "        dropoff_lon   dropoff_lat   fare_amount  \n",
       "count  19549.000000  19549.000000  19549.000000  \n",
       "mean     -73.954265     40.748454     12.085086  \n",
       "std        0.046595      0.046960      9.185180  \n",
       "min      -74.185951     40.545406      0.010000  \n",
       "25%      -73.985260     40.721432      6.500000  \n",
       "50%      -73.964783     40.752056      9.000000  \n",
       "75%      -73.939484     40.774502     14.500000  \n",
       "max      -73.683701     41.012783     69.500000  "
      ]
     },
     "execution_count": 61,
     "metadata": {},
     "output_type": "execute_result"
    }
   ],
   "source": [
    "full_taxi_df.describe()"
   ]
  },
  {
   "cell_type": "markdown",
   "id": "1d46ac8a",
   "metadata": {},
   "source": [
    "Everything looks nice and we have deleted less than 2% or rows only that proves our method for data cleansing."
   ]
  },
  {
   "cell_type": "markdown",
   "id": "e638c1dc",
   "metadata": {},
   "source": [
    "## Step 3. Additional features generation"
   ]
  },
  {
   "cell_type": "markdown",
   "id": "6e4593a5",
   "metadata": {},
   "source": [
    "Let's look at the **passenger** column distribution."
   ]
  },
  {
   "cell_type": "code",
   "execution_count": 62,
   "id": "b65db060",
   "metadata": {},
   "outputs": [
    {
     "data": {
      "image/png": "[encoded data removed]",
      "text/plain": [
       "<Figure size 640x480 with 1 Axes>"
      ]
     },
     "metadata": {},
     "output_type": "display_data"
    }
   ],
   "source": [
    "full_taxi_df[\"passengers\"].hist()\n",
    "plt.title(\"passenger\")\n",
    "plt.show()"
   ]
  },
  {
   "cell_type": "markdown",
   "id": "acd0eb1c",
   "metadata": {},
   "source": [
    "The column is not balanced, and it's impossible to use a column like this. To make it more balanced, we will group data into two buckets (<=2 passangers and >2 passangers) and convert it into a binary one."
   ]
  },
  {
   "cell_type": "code",
   "execution_count": 63,
   "id": "63eaef8f",
   "metadata": {},
   "outputs": [],
   "source": [
    "full_taxi_df[\"passengers\"] = np.where((full_taxi_df.passengers <3), 0, 1)"
   ]
  },
  {
   "cell_type": "code",
   "execution_count": 64,
   "id": "19c114e6",
   "metadata": {},
   "outputs": [
    {
     "data": {
      "image/png": "[encoded data removed]",
      "text/plain": [
       "<Figure size 640x480 with 1 Axes>"
      ]
     },
     "metadata": {},
     "output_type": "display_data"
    }
   ],
   "source": [
    "full_taxi_df[\"passengers\"].hist()\n",
    "plt.title(\"passenger\")\n",
    "plt.show()"
   ]
  },
  {
   "cell_type": "markdown",
   "id": "b78a898c",
   "metadata": {},
   "source": [
    "Now, the column looks better. At least we should have enough data in train/test datasets.\n",
    "\n",
    "The dataset contains two columns in **datetime64** format. We need to convert it into several columns. We don't care much about year and mounth because we have a limited slice. Additionally, it doesn't make much sense to hold seconds - it should not affect fare. So, we can concentrate our attention at **dayofweek**, **day**, **hour** and **minute**."
   ]
  },
  {
   "cell_type": "code",
   "execution_count": 65,
   "id": "7fe7267c",
   "metadata": {},
   "outputs": [],
   "source": [
    "time_series = pd.DatetimeIndex(full_taxi_df[\"pickup_dt\"], dtype=\"datetime64[ns]\")\n",
    "full_taxi_df[\"pickup_weekday\"] = time_series.dayofweek\n",
    "# full_taxi_df[\"pickup_month\"] = time_series.month\n",
    "full_taxi_df[\"pickup_monthday\"] = time_series.day\n",
    "full_taxi_df[\"pickup_hour\"] = time_series.hour\n",
    "full_taxi_df[\"pickup_minute\"] = time_series.minute\n",
    "\n",
    "time_series = pd.DatetimeIndex(full_taxi_df[\"dropoff_dt\"], dtype=\"datetime64[ns]\")\n",
    "full_taxi_df[\"dropoff_weekday\"] = time_series.dayofweek\n",
    "# full_taxi_df[\"dropoff_month\"] = time_series.month\n",
    "full_taxi_df[\"dropoff_monthday\"] = time_series.day\n",
    "full_taxi_df[\"dropoff_hour\"] = time_series.hour\n",
    "full_taxi_df[\"dropoff_minute\"] = time_series.minute\n",
    "\n",
    "del full_taxi_df[\"dropoff_dt\"]\n",
    "del full_taxi_df[\"pickup_dt\"]\n",
    "\n",
    "full_taxi_df.reset_index(inplace=True, drop=True)"
   ]
  },
  {
   "cell_type": "markdown",
   "id": "7144ed01",
   "metadata": {},
   "source": [
    "Let's look at the correlation matrix to see if we can delete anything else."
   ]
  },
  {
   "cell_type": "code",
   "execution_count": 66,
   "id": "cb36dd82",
   "metadata": {},
   "outputs": [],
   "source": [
    "corrM = full_taxi_df.corr()"
   ]
  },
  {
   "cell_type": "code",
   "execution_count": 67,
   "id": "1504d4b9",
   "metadata": {},
   "outputs": [
    {
     "data": {
      "image/png": "[encoded data removed]",
      "text/plain": [
       "<Figure size 1200x1200 with 2 Axes>"
      ]
     },
     "metadata": {},
     "output_type": "display_data"
    }
   ],
   "source": [
    "fig, ax = plt.subplots(figsize=(12,12)) \n",
    "ax = sns.heatmap(corrM, annot=True, linewidth=.5, ax=ax, annot_kws={\"fontsize\":6})"
   ]
  },
  {
   "cell_type": "markdown",
   "id": "d2bddd8a",
   "metadata": {},
   "source": [
    "We can see that **dropoff_weekday** and **dropoff_monthday** are fully dependent on **pickup_weekday** and **pickup_monthday**. It's because we are not sitting in a taxi for days. So, we can delete two of four columns."
   ]
  },
  {
   "cell_type": "code",
   "execution_count": 68,
   "id": "71f2a91d",
   "metadata": {},
   "outputs": [],
   "source": [
    "del full_taxi_df[\"dropoff_weekday\"]\n",
    "del full_taxi_df[\"dropoff_monthday\"]"
   ]
  },
  {
   "cell_type": "markdown",
   "id": "4612e406",
   "metadata": {},
   "source": [
    "## Step 4. Building a model"
   ]
  },
  {
   "cell_type": "markdown",
   "id": "63c54728",
   "metadata": {},
   "source": [
    "It's time to train a model. Let's prepare train/test validation sets."
   ]
  },
  {
   "cell_type": "code",
   "execution_count": 69,
   "id": "a9306830",
   "metadata": {},
   "outputs": [],
   "source": [
    "y = full_taxi_df[\"fare_amount\"]\n",
    "X = full_taxi_df.drop(['fare_amount'], axis=1)"
   ]
  },
  {
   "cell_type": "code",
   "execution_count": 70,
   "id": "e1ee00f0",
   "metadata": {},
   "outputs": [],
   "source": [
    "train_X, test_X, train_y, test_y = train_test_split(X, y, test_size=0.2, random_state=42)"
   ]
  },
  {
   "cell_type": "markdown",
   "id": "ce911c04",
   "metadata": {},
   "source": [
    "In the first iteration we will use all the features to train a linear regression model with no parameter regulalization as well as with parameters regularization. We are printing MSE and R2 for every model."
   ]
  },
  {
   "cell_type": "code",
   "execution_count": 71,
   "id": "fd88e61b",
   "metadata": {},
   "outputs": [],
   "source": [
    "model = LinearRegression().fit(train_X, train_y)"
   ]
  },
  {
   "cell_type": "code",
   "execution_count": 72,
   "id": "8ed5e3d1",
   "metadata": {},
   "outputs": [],
   "source": [
    "predict_df = model.predict(test_X)"
   ]
  },
  {
   "cell_type": "code",
   "execution_count": 73,
   "id": "fce765a9",
   "metadata": {},
   "outputs": [
    {
     "name": "stdout",
     "output_type": "stream",
     "text": [
      "Mean squared error: 7.65\n",
      "Coefficient of determination: 0.91\n"
     ]
    }
   ],
   "source": [
    "print(\"Mean squared error: %.2f\" % mean_squared_error(test_y, predict_df))\n",
    "print(\"Coefficient of determination: %.2f\" % r2_score(test_y, predict_df))"
   ]
  },
  {
   "cell_type": "code",
   "execution_count": 74,
   "id": "ca7dd9e4",
   "metadata": {},
   "outputs": [],
   "source": [
    "model_2 = Ridge(alpha=1.0).fit(train_X, train_y)"
   ]
  },
  {
   "cell_type": "code",
   "execution_count": 75,
   "id": "f72eabe6",
   "metadata": {},
   "outputs": [],
   "source": [
    "predict_df = model_2.predict(test_X)"
   ]
  },
  {
   "cell_type": "code",
   "execution_count": 76,
   "id": "2cab9333",
   "metadata": {},
   "outputs": [
    {
     "name": "stdout",
     "output_type": "stream",
     "text": [
      "Mean squared error: 7.65\n",
      "Coefficient of determination: 0.91\n"
     ]
    }
   ],
   "source": [
    "print(\"Mean squared error: %.2f\" % mean_squared_error(test_y, predict_df))\n",
    "print(\"Coefficient of determination: %.2f\" % r2_score(test_y, predict_df))"
   ]
  },
  {
   "cell_type": "markdown",
   "id": "09f0234b",
   "metadata": {},
   "source": [
    "First iteration gave us a very good R2, but we will try to see if we can get a better result using different number of features and algorithms.\n",
    "\n",
    "Let's look at p-values for the features."
   ]
  },
  {
   "cell_type": "code",
   "execution_count": 77,
   "id": "94f73a61",
   "metadata": {},
   "outputs": [],
   "source": [
    "f_values, p_values = f_regression(train_X, train_y)"
   ]
  },
  {
   "cell_type": "code",
   "execution_count": 78,
   "id": "0a7336aa",
   "metadata": {},
   "outputs": [
    {
     "name": "stdout",
     "output_type": "stream",
     "text": [
      "p-values: [2.55232105e-001 1.14259987e-001 0.00000000e+000 5.71179357e-229\n",
      " 1.56211371e-092 7.32686821e-085 3.02025636e-074 7.38898641e-001\n",
      " 8.04104707e-001 5.51917237e-004 1.84555559e-001 1.24443122e-002\n",
      " 5.12376967e-001]\n"
     ]
    }
   ],
   "source": [
    "print(f\"p-values: {p_values}\")"
   ]
  },
  {
   "cell_type": "code",
   "execution_count": 79,
   "id": "f3d8d86e",
   "metadata": {},
   "outputs": [
    {
     "data": {
      "image/png": "[encoded data removed]",
      "text/plain": [
       "<Figure size 640x480 with 1 Axes>"
      ]
     },
     "metadata": {},
     "output_type": "display_data"
    }
   ],
   "source": [
    "fig, ax = plt.subplots()\n",
    "\n",
    "ax.scatter(train_X.columns, p_values)\n",
    "plt.xticks(rotation=30, ha='right')\n",
    "\n",
    "plt.show()"
   ]
  },
  {
   "cell_type": "markdown",
   "id": "5e4a6ffa",
   "metadata": {},
   "source": [
    "Looks like that 6 of 13 features are non-significant if we use p-value criteria.\n",
    "\n",
    "In sklearn we can use SelectKBest to apply the creteria and get a list of features as an array"
   ]
  },
  {
   "cell_type": "code",
   "execution_count": 80,
   "id": "8119a407",
   "metadata": {},
   "outputs": [
    {
     "name": "stdout",
     "output_type": "stream",
     "text": [
      "['distance' 'pickup_lon' 'pickup_lat' 'dropoff_lon' 'dropoff_lat'\n",
      " 'pickup_hour' 'dropoff_hour']\n"
     ]
    }
   ],
   "source": [
    "fs = SelectKBest(score_func=f_regression, k=7)\n",
    "\n",
    "fs.fit(train_X, train_y)\n",
    "features = fs.get_feature_names_out()\n",
    "print(features)"
   ]
  },
  {
   "cell_type": "markdown",
   "id": "0aed1e26",
   "metadata": {},
   "source": [
    "One more algorith is based on mutual info statistic"
   ]
  },
  {
   "cell_type": "code",
   "execution_count": 104,
   "id": "e51f6d81",
   "metadata": {},
   "outputs": [
    {
     "name": "stdout",
     "output_type": "stream",
     "text": [
      "['passengers' 'distance' 'pickup_lon' 'pickup_lat' 'dropoff_lon'\n",
      " 'dropoff_lat' 'pickup_hour']\n"
     ]
    }
   ],
   "source": [
    "fs = SelectKBest(score_func=mutual_info_regression, k=7)\n",
    "\n",
    "fs.fit(train_X, train_y)\n",
    "features = fs.get_feature_names_out()\n",
    "print(features)"
   ]
  },
  {
   "cell_type": "markdown",
   "id": "2aedac62",
   "metadata": {},
   "source": [
    "Both methods shows almost the same result. Use these columns."
   ]
  },
  {
   "cell_type": "code",
   "execution_count": 82,
   "id": "e09d15dc",
   "metadata": {},
   "outputs": [],
   "source": [
    "columns_to_leave = ['distance', 'pickup_lon', 'pickup_lat', 'dropoff_lon', 'dropoff_lat',\n",
    "                    'pickup_hour', 'pickup_minute']\n",
    "train_X_f = train_X[columns_to_leave]\n",
    "test_X_f = test_X[columns_to_leave]"
   ]
  },
  {
   "cell_type": "markdown",
   "id": "f3defff6",
   "metadata": {},
   "source": [
    "Let's look at the linear regression again"
   ]
  },
  {
   "cell_type": "code",
   "execution_count": 83,
   "id": "f0226332",
   "metadata": {},
   "outputs": [],
   "source": [
    "model = LinearRegression().fit(train_X_f, train_y)"
   ]
  },
  {
   "cell_type": "code",
   "execution_count": 84,
   "id": "d26a59ae",
   "metadata": {},
   "outputs": [],
   "source": [
    "predict_df = model.predict(test_X_f)"
   ]
  },
  {
   "cell_type": "code",
   "execution_count": 85,
   "id": "6df218c9",
   "metadata": {},
   "outputs": [
    {
     "name": "stdout",
     "output_type": "stream",
     "text": [
      "Mean squared error: 7.81\n",
      "Coefficient of determination: 0.91\n"
     ]
    }
   ],
   "source": [
    "print(\"Mean squared error: %.2f\" % mean_squared_error(test_y, predict_df))\n",
    "print(\"Coefficient of determination: %.2f\" % r2_score(test_y, predict_df))"
   ]
  },
  {
   "cell_type": "markdown",
   "id": "5f3fd3a5",
   "metadata": {},
   "source": [
    "The result looks the same. Let's look at other algorithms to see if we got the best result with the liniar regression."
   ]
  },
  {
   "cell_type": "code",
   "execution_count": 86,
   "id": "55b2cab5",
   "metadata": {},
   "outputs": [
    {
     "data": {
      "text/html": [
       "<style>#sk-container-id-1 {color: black;background-color: white;}#sk-container-id-1 pre{padding: 0;}#sk-container-id-1 div.sk-toggleable {background-color: white;}#sk-container-id-1 label.sk-toggleable__label {cursor: pointer;display: block;width: 100%;margin-bottom: 0;padding: 0.3em;box-sizing: border-box;text-align: center;}#sk-container-id-1 label.sk-toggleable__label-arrow:before {content: \"▸\";float: left;margin-right: 0.25em;color: #696969;}#sk-container-id-1 label.sk-toggleable__label-arrow:hover:before {color: black;}#sk-container-id-1 div.sk-estimator:hover label.sk-toggleable__label-arrow:before {color: black;}#sk-container-id-1 div.sk-toggleable__content {max-height: 0;max-width: 0;overflow: hidden;text-align: left;background-color: #f0f8ff;}#sk-container-id-1 div.sk-toggleable__content pre {margin: 0.2em;color: black;border-radius: 0.25em;background-color: #f0f8ff;}#sk-container-id-1 input.sk-toggleable__control:checked~div.sk-toggleable__content {max-height: 200px;max-width: 100%;overflow: auto;}#sk-container-id-1 input.sk-toggleable__control:checked~label.sk-toggleable__label-arrow:before {content: \"▾\";}#sk-container-id-1 div.sk-estimator input.sk-toggleable__control:checked~label.sk-toggleable__label {background-color: #d4ebff;}#sk-container-id-1 div.sk-label input.sk-toggleable__control:checked~label.sk-toggleable__label {background-color: #d4ebff;}#sk-container-id-1 input.sk-hidden--visually {border: 0;clip: rect(1px 1px 1px 1px);clip: rect(1px, 1px, 1px, 1px);height: 1px;margin: -1px;overflow: hidden;padding: 0;position: absolute;width: 1px;}#sk-container-id-1 div.sk-estimator {font-family: monospace;background-color: #f0f8ff;border: 1px dotted black;border-radius: 0.25em;box-sizing: border-box;margin-bottom: 0.5em;}#sk-container-id-1 div.sk-estimator:hover {background-color: #d4ebff;}#sk-container-id-1 div.sk-parallel-item::after {content: \"\";width: 100%;border-bottom: 1px solid gray;flex-grow: 1;}#sk-container-id-1 div.sk-label:hover label.sk-toggleable__label {background-color: #d4ebff;}#sk-container-id-1 div.sk-serial::before {content: \"\";position: absolute;border-left: 1px solid gray;box-sizing: border-box;top: 0;bottom: 0;left: 50%;z-index: 0;}#sk-container-id-1 div.sk-serial {display: flex;flex-direction: column;align-items: center;background-color: white;padding-right: 0.2em;padding-left: 0.2em;position: relative;}#sk-container-id-1 div.sk-item {position: relative;z-index: 1;}#sk-container-id-1 div.sk-parallel {display: flex;align-items: stretch;justify-content: center;background-color: white;position: relative;}#sk-container-id-1 div.sk-item::before, #sk-container-id-1 div.sk-parallel-item::before {content: \"\";position: absolute;border-left: 1px solid gray;box-sizing: border-box;top: 0;bottom: 0;left: 50%;z-index: -1;}#sk-container-id-1 div.sk-parallel-item {display: flex;flex-direction: column;z-index: 1;position: relative;background-color: white;}#sk-container-id-1 div.sk-parallel-item:first-child::after {align-self: flex-end;width: 50%;}#sk-container-id-1 div.sk-parallel-item:last-child::after {align-self: flex-start;width: 50%;}#sk-container-id-1 div.sk-parallel-item:only-child::after {width: 0;}#sk-container-id-1 div.sk-dashed-wrapped {border: 1px dashed gray;margin: 0 0.4em 0.5em 0.4em;box-sizing: border-box;padding-bottom: 0.4em;background-color: white;}#sk-container-id-1 div.sk-label label {font-family: monospace;font-weight: bold;display: inline-block;line-height: 1.2em;}#sk-container-id-1 div.sk-label-container {text-align: center;}#sk-container-id-1 div.sk-container {/* jupyter's `normalize.less` sets `[hidden] { display: none; }` but bootstrap.min.css set `[hidden] { display: none !important; }` so we also need the `!important` here to be able to override the default hidden behavior on the sphinx rendered scikit-learn.org. See: https://github.com/scikit-learn/scikit-learn/issues/21755 */display: inline-block !important;position: relative;}#sk-container-id-1 div.sk-text-repr-fallback {display: none;}</style><div id=\"sk-container-id-1\" class=\"sk-top-container\"><div class=\"sk-text-repr-fallback\"><pre>SVR()</pre><b>In a Jupyter environment, please rerun this cell to show the HTML representation or trust the notebook. <br />On GitHub, the HTML representation is unable to render, please try loading this page with nbviewer.org.</b></div><div class=\"sk-container\" hidden><div class=\"sk-item\"><div class=\"sk-estimator sk-toggleable\"><input class=\"sk-toggleable__control sk-hidden--visually\" id=\"sk-estimator-id-1\" type=\"checkbox\" checked><label for=\"sk-estimator-id-1\" class=\"sk-toggleable__label sk-toggleable__label-arrow\">SVR</label><div class=\"sk-toggleable__content\"><pre>SVR()</pre></div></div></div></div></div>"
      ],
      "text/plain": [
       "SVR()"
      ]
     },
     "execution_count": 86,
     "metadata": {},
     "output_type": "execute_result"
    }
   ],
   "source": [
    "# support vector for regression\n",
    "\n",
    "regr = svm.SVR()\n",
    "regr.fit(train_X_f, train_y)"
   ]
  },
  {
   "cell_type": "code",
   "execution_count": 87,
   "id": "eaa1cdbf",
   "metadata": {},
   "outputs": [],
   "source": [
    "predict_df = regr.predict(test_X_f)"
   ]
  },
  {
   "cell_type": "code",
   "execution_count": 88,
   "id": "874bef6b",
   "metadata": {},
   "outputs": [
    {
     "name": "stdout",
     "output_type": "stream",
     "text": [
      "Mean squared error: 9.97\n",
      "Coefficient of determination: 0.88\n"
     ]
    }
   ],
   "source": [
    "print(\"Mean squared error: %.2f\" % mean_squared_error(test_y, predict_df))\n",
    "print(\"Coefficient of determination: %.2f\" % r2_score(test_y, predict_df))"
   ]
  },
  {
   "cell_type": "code",
   "execution_count": 89,
   "id": "a35e605e",
   "metadata": {},
   "outputs": [],
   "source": [
    "# neural net\n",
    "\n",
    "regr = MLPRegressor(random_state=1, max_iter=500).fit(train_X_f, train_y)"
   ]
  },
  {
   "cell_type": "code",
   "execution_count": 90,
   "id": "025ab0ed",
   "metadata": {},
   "outputs": [],
   "source": [
    "predict_df = regr.predict(test_X_f)"
   ]
  },
  {
   "cell_type": "code",
   "execution_count": 91,
   "id": "b3fb74ef",
   "metadata": {},
   "outputs": [
    {
     "name": "stdout",
     "output_type": "stream",
     "text": [
      "Mean squared error: 7.15\n",
      "Coefficient of determination: 0.91\n"
     ]
    }
   ],
   "source": [
    "print(\"Mean squared error: %.2f\" % mean_squared_error(test_y, predict_df))\n",
    "print(\"Coefficient of determination: %.2f\" % r2_score(test_y, predict_df))"
   ]
  },
  {
   "cell_type": "code",
   "execution_count": 92,
   "id": "f8f66bdd",
   "metadata": {},
   "outputs": [],
   "source": [
    "# Decision tree for regression\n",
    "\n",
    "clf = tree.DecisionTreeRegressor().fit(train_X_f, train_y)"
   ]
  },
  {
   "cell_type": "code",
   "execution_count": 93,
   "id": "760fca31",
   "metadata": {},
   "outputs": [],
   "source": [
    "predict_df = clf.predict(test_X_f)"
   ]
  },
  {
   "cell_type": "code",
   "execution_count": 94,
   "id": "c8d0eee5",
   "metadata": {},
   "outputs": [
    {
     "name": "stdout",
     "output_type": "stream",
     "text": [
      "Mean squared error: 12.62\n",
      "Coefficient of determination: 0.85\n"
     ]
    }
   ],
   "source": [
    "print(\"Mean squared error: %.2f\" % mean_squared_error(test_y, predict_df))\n",
    "print(\"Coefficient of determination: %.2f\" % r2_score(test_y, predict_df))"
   ]
  },
  {
   "cell_type": "code",
   "execution_count": 95,
   "id": "43dc0619",
   "metadata": {},
   "outputs": [],
   "source": [
    "# Gradient boosting\n",
    "\n",
    "est = GradientBoostingRegressor(\n",
    "    n_estimators=100, learning_rate=0.1, max_depth=3, random_state=0,loss='squared_error').fit(train_X_f, train_y)"
   ]
  },
  {
   "cell_type": "code",
   "execution_count": 96,
   "id": "436cdf8c",
   "metadata": {},
   "outputs": [],
   "source": [
    "predict_df = est.predict(test_X_f)"
   ]
  },
  {
   "cell_type": "code",
   "execution_count": 97,
   "id": "35944c85",
   "metadata": {},
   "outputs": [
    {
     "name": "stdout",
     "output_type": "stream",
     "text": [
      "Mean squared error: 6.99\n",
      "Coefficient of determination: 0.92\n"
     ]
    }
   ],
   "source": [
    "print(\"Mean squared error: %.2f\" % mean_squared_error(test_y, predict_df))\n",
    "print(\"Coefficient of determination: %.2f\" % r2_score(test_y, predict_df))"
   ]
  },
  {
   "cell_type": "markdown",
   "id": "4672350a",
   "metadata": {},
   "source": [
    "Gradient boosting is the best algorithm. Let's see if we can get less features to have even better R2."
   ]
  },
  {
   "cell_type": "code",
   "execution_count": 100,
   "id": "df03f899",
   "metadata": {},
   "outputs": [
    {
     "name": "stdout",
     "output_type": "stream",
     "text": [
      "Number of features 1: ['distance']\n",
      "Mean squared error: 7.39\n",
      "Coefficient of determination: 0.91\n",
      "Number of features 2: ['distance' 'pickup_lon']\n",
      "Mean squared error: 7.30\n",
      "Coefficient of determination: 0.91\n",
      "Number of features 3: ['distance' 'pickup_lon' 'pickup_lat']\n",
      "Mean squared error: 7.63\n",
      "Coefficient of determination: 0.91\n",
      "Number of features 4: ['distance' 'pickup_lon' 'pickup_lat' 'dropoff_lon']\n",
      "Mean squared error: 7.32\n",
      "Coefficient of determination: 0.91\n",
      "Number of features 5: ['distance' 'pickup_lon' 'pickup_lat' 'dropoff_lon' 'dropoff_lat']\n",
      "Mean squared error: 7.29\n",
      "Coefficient of determination: 0.91\n",
      "Number of features 6: ['distance' 'pickup_lon' 'pickup_lat' 'dropoff_lon' 'dropoff_lat'\n",
      " 'pickup_hour']\n",
      "Mean squared error: 6.94\n",
      "Coefficient of determination: 0.92\n",
      "Number of features 7: ['distance' 'pickup_lon' 'pickup_lat' 'dropoff_lon' 'dropoff_lat'\n",
      " 'pickup_hour' 'dropoff_hour']\n",
      "Mean squared error: 6.89\n",
      "Coefficient of determination: 0.92\n",
      "Number of features 8: ['passengers' 'distance' 'pickup_lon' 'pickup_lat' 'dropoff_lon'\n",
      " 'dropoff_lat' 'pickup_hour' 'dropoff_hour']\n",
      "Mean squared error: 6.80\n",
      "Coefficient of determination: 0.92\n",
      "Number of features 9: ['passengers' 'distance' 'pickup_lon' 'pickup_lat' 'dropoff_lon'\n",
      " 'dropoff_lat' 'pickup_hour' 'pickup_minute' 'dropoff_hour']\n",
      "Mean squared error: 6.89\n",
      "Coefficient of determination: 0.92\n",
      "Number of features 10: ['vendor_id' 'passengers' 'distance' 'pickup_lon' 'pickup_lat'\n",
      " 'dropoff_lon' 'dropoff_lat' 'pickup_hour' 'pickup_minute' 'dropoff_hour']\n",
      "Mean squared error: 6.82\n",
      "Coefficient of determination: 0.92\n",
      "Number of features 11: ['vendor_id' 'passengers' 'distance' 'pickup_lon' 'pickup_lat'\n",
      " 'dropoff_lon' 'dropoff_lat' 'pickup_hour' 'pickup_minute' 'dropoff_hour'\n",
      " 'dropoff_minute']\n",
      "Mean squared error: 6.87\n",
      "Coefficient of determination: 0.92\n",
      "Number of features 12: ['vendor_id' 'passengers' 'distance' 'pickup_lon' 'pickup_lat'\n",
      " 'dropoff_lon' 'dropoff_lat' 'pickup_weekday' 'pickup_hour'\n",
      " 'pickup_minute' 'dropoff_hour' 'dropoff_minute']\n",
      "Mean squared error: 6.81\n",
      "Coefficient of determination: 0.92\n",
      "Number of features 13: ['vendor_id' 'passengers' 'distance' 'pickup_lon' 'pickup_lat'\n",
      " 'dropoff_lon' 'dropoff_lat' 'pickup_weekday' 'pickup_monthday'\n",
      " 'pickup_hour' 'pickup_minute' 'dropoff_hour' 'dropoff_minute']\n",
      "Mean squared error: 6.50\n",
      "Coefficient of determination: 0.92\n"
     ]
    }
   ],
   "source": [
    "for i in range(0, 13):\n",
    "    fs = SelectKBest(score_func=f_regression, k=i+1)\n",
    "    fs.fit(train_X, train_y)\n",
    "    features = fs.get_feature_names_out()\n",
    "    train_X_up = train_X[features]\n",
    "    test_X_up = test_X[features]\n",
    "    est = GradientBoostingRegressor(\n",
    "        n_estimators=100, learning_rate=0.1, max_depth=3,\n",
    "        random_state=0,loss='squared_error').fit(train_X_up, train_y)\n",
    "    predict_df = est.predict(test_X_up)\n",
    "    print(f\"Number of features {i+1}: {features}\")\n",
    "    print(\"Mean squared error: %.2f\" % mean_squared_error(test_y, predict_df))\n",
    "    print(\"Coefficient of determination: %.2f\" % r2_score(test_y, predict_df))"
   ]
  },
  {
   "cell_type": "markdown",
   "id": "c4950115",
   "metadata": {},
   "source": [
    "If we use 8 features by p-value, we have the best MSE and R2. Let's fix 8 as a number of features and try to tune depth of the estimators."
   ]
  },
  {
   "cell_type": "code",
   "execution_count": 107,
   "id": "4b2a75d8",
   "metadata": {},
   "outputs": [
    {
     "name": "stdout",
     "output_type": "stream",
     "text": [
      "Depth: 1\n",
      "Mean squared error: 7.22\n",
      "Coefficient of determination: 0.91\n",
      "Depth: 2\n",
      "Mean squared error: 6.79\n",
      "Coefficient of determination: 0.92\n",
      "Depth: 3\n",
      "Mean squared error: 6.80\n",
      "Coefficient of determination: 0.92\n",
      "Depth: 4\n",
      "Mean squared error: 6.72\n",
      "Coefficient of determination: 0.92\n",
      "Depth: 5\n",
      "Mean squared error: 6.66\n",
      "Coefficient of determination: 0.92\n",
      "Depth: 6\n",
      "Mean squared error: 6.49\n",
      "Coefficient of determination: 0.92\n",
      "Depth: 7\n",
      "Mean squared error: 6.40\n",
      "Coefficient of determination: 0.92\n",
      "Depth: 8\n",
      "Mean squared error: 6.65\n",
      "Coefficient of determination: 0.92\n",
      "Depth: 9\n",
      "Mean squared error: 6.81\n",
      "Coefficient of determination: 0.92\n",
      "Depth: 10\n",
      "Mean squared error: 7.03\n",
      "Coefficient of determination: 0.91\n"
     ]
    }
   ],
   "source": [
    "fs = SelectKBest(score_func=f_regression, k=8)\n",
    "fs.fit(train_X, train_y)\n",
    "features = fs.get_feature_names_out()\n",
    "train_X_up = train_X[features]\n",
    "test_X_up = test_X[features]\n",
    "    \n",
    "for i in range(0, 10):\n",
    "    est = GradientBoostingRegressor(\n",
    "        n_estimators=100, learning_rate=0.1, max_depth=i+1,\n",
    "        random_state=0,loss='squared_error').fit(train_X_up, train_y)\n",
    "    predict_df = est.predict(test_X_up)\n",
    "    print(f\"Depth: {i+1}\")\n",
    "    print(\"Mean squared error: %.2f\" % mean_squared_error(test_y, predict_df))\n",
    "    print(\"Coefficient of determination: %.2f\" % r2_score(test_y, predict_df))"
   ]
  },
  {
   "cell_type": "markdown",
   "id": "c476a2bd",
   "metadata": {},
   "source": [
    "Base on the results, the best depth is 6 or 7 that has R2=0.99 and MSE = 6.4."
   ]
  },
  {
   "cell_type": "markdown",
   "id": "2ce86040",
   "metadata": {},
   "source": [
    "## Conclusion"
   ]
  },
  {
   "cell_type": "markdown",
   "id": "1859a031",
   "metadata": {},
   "source": [
    "In this project we have cleaned the dataset and picked the best model for fare amount prediction. Our model is **GradientBoostingRegressor** with depth = 7 and the following list of features: 'passengers' 'distance' 'pickup_lon' 'pickup_lat' 'dropoff_lon' 'dropoff_lat' 'pickup_hour' 'dropoff_hour'.\n",
    "\n",
    "The result that model has produced is R2=0.92 and MSE = 6.81. It means that we can predict the fare well with an error from a real fare less than 3 dollars."
   ]
  },
  {
   "cell_type": "code",
   "execution_count": null,
   "id": "c1cdd5de",
   "metadata": {},
   "outputs": [],
   "source": []
  }
 ],
 "metadata": {
  "kernelspec": {
   "display_name": "Python (dtsa5509)",
   "language": "python",
   "name": "dtsa5509"
  },
  "language_info": {
   "codemirror_mode": {
    "name": "ipython",
    "version": 3
   },
   "file_extension": ".py",
   "mimetype": "text/x-python",
   "name": "python",
   "nbconvert_exporter": "python",
   "pygments_lexer": "ipython3",
   "version": "3.9.16"
  }
 },
 "nbformat": 4,
 "nbformat_minor": 5
}
